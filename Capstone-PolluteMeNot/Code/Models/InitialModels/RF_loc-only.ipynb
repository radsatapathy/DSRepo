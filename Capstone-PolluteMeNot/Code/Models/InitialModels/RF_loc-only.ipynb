{
 "cells": [
  {
   "cell_type": "markdown",
   "metadata": {},
   "source": [
    "# Import Python Packages"
   ]
  },
  {
   "cell_type": "code",
   "execution_count": 1,
   "metadata": {},
   "outputs": [],
   "source": [
    "import numpy as np # linear algebra\n",
    "import pandas as pd # data processing, CSV file I/O (e.g. pd.read_csv)\n",
    "import matplotlib.pyplot as plt # data visualization\n",
    "import seaborn as sns # statistical data visualization\n",
    "import category_encoders as ce\n",
    "from imblearn import under_sampling, over_sampling\n",
    "from imblearn.over_sampling import SMOTE\n",
    "from imblearn.over_sampling import KMeansSMOTE\n",
    "from xgboost import XGBClassifier\n",
    "from lightgbm import LGBMClassifier\n",
    "from sklearn.ensemble import GradientBoostingClassifier\n",
    "\n",
    "import numpy as np # linear algebra\n",
    "import pandas as pd # data processing, CSV file I/O (e.g. pd.read_csv)\n",
    "import matplotlib.pyplot as plt # data visualization\n",
    "import seaborn as sns # statistical data visualization\n",
    "import category_encoders as ce\n",
    "from imblearn import under_sampling, over_sampling\n",
    "from imblearn.over_sampling import SMOTE\n",
    "from imblearn.over_sampling import KMeansSMOTE\n",
    "from xgboost import XGBClassifier\n",
    "from lightgbm import LGBMClassifier\n",
    "from sklearn.ensemble import GradientBoostingClassifier\n",
    "\n",
    "\n",
    "%matplotlib inline\n",
    "\n",
    "import pandas as pd\n",
    "from pandas import read_csv\n",
    "\n",
    "import numpy as np\n",
    "from numpy import isnan\n",
    "\n",
    "import pickle5 as pickle\n",
    "import os\n",
    "import random\n",
    "\n",
    "import matplotlib.pyplot as plt\n",
    "\n",
    "from collections import Counter\n",
    "\n",
    "import time\n",
    "\n",
    "import xgboost as xgb\n",
    "from xgboost import XGBClassifier\n",
    "from xgboost import plot_importance\n",
    "\n",
    "from sklearn.model_selection import train_test_split\n",
    "from sklearn.model_selection import StratifiedShuffleSplit\n",
    "# from iterstrat.ml_stratifiers import MultilabelStratifiedShuffleSplit\n",
    "\n",
    "from sklearn.neighbors import KNeighborsClassifier\n",
    "from sklearn.inspection import permutation_importance\n",
    "\n",
    "from sklearn.ensemble import RandomForestClassifier\n",
    "\n",
    "from sklearn.datasets import make_classification\n",
    "from sklearn.metrics import confusion_matrix\n",
    "from sklearn.metrics import roc_curve, auc\n",
    "from sklearn.datasets import make_classification\n",
    "from sklearn.metrics import classification_report\n",
    "from sklearn.metrics import accuracy_score\n",
    "from sklearn import metrics\n",
    "from sklearn.metrics import precision_score\n",
    "from sklearn.model_selection import cross_val_score\n",
    "from sklearn.metrics import balanced_accuracy_score\n",
    "from sklearn.model_selection import GridSearchCV\n",
    "\n",
    "from sklearn.model_selection import RepeatedStratifiedKFold\n",
    "from sklearn.preprocessing import StandardScaler\n",
    "from sklearn.preprocessing import MinMaxScaler\n",
    "\n",
    "\n",
    "from sklearn.impute import SimpleImputer\n",
    "\n",
    "from sklearn.model_selection import GridSearchCV\n",
    "\n",
    "from sklearn.metrics import roc_curve\n",
    "from sklearn.metrics import roc_auc_score\n",
    "\n",
    "from sklearn.metrics import precision_recall_curve\n",
    "from sklearn.metrics import plot_precision_recall_curve\n",
    "\n",
    "import seaborn as sns\n",
    "\n",
    "from collections import Counter\n",
    "from sklearn.datasets import make_classification\n",
    "from imblearn.under_sampling import RandomUnderSampler\n",
    "from imblearn.over_sampling import RandomOverSampler\n",
    "\n",
    "from imblearn.pipeline import Pipeline\n",
    "\n",
    "# from mlxtend.evaluate import bias_variance_decomp\n",
    "\n",
    "from sklearn.ensemble import VotingClassifier\n",
    "\n",
    "from sklearn.linear_model import LogisticRegression\n",
    "%matplotlib inline"
   ]
  },
  {
   "cell_type": "code",
   "execution_count": 2,
   "metadata": {},
   "outputs": [],
   "source": [
    "pd.set_option('display.max_rows', 500)\n",
    "pd.set_option('display.max_columns', 500)\n",
    "pd.set_option('display.width', 1000)"
   ]
  },
  {
   "cell_type": "markdown",
   "metadata": {},
   "source": [
    "# Load the Data"
   ]
  },
  {
   "cell_type": "code",
   "execution_count": 3,
   "metadata": {
    "scrolled": true
   },
   "outputs": [
    {
     "name": "stdout",
     "output_type": "stream",
     "text": [
      "(14619, 9)\n"
     ]
    },
    {
     "data": {
      "text/html": [
       "<div>\n",
       "<style scoped>\n",
       "    .dataframe tbody tr th:only-of-type {\n",
       "        vertical-align: middle;\n",
       "    }\n",
       "\n",
       "    .dataframe tbody tr th {\n",
       "        vertical-align: top;\n",
       "    }\n",
       "\n",
       "    .dataframe thead th {\n",
       "        text-align: right;\n",
       "    }\n",
       "</style>\n",
       "<table border=\"1\" class=\"dataframe\">\n",
       "  <thead>\n",
       "    <tr style=\"text-align: right;\">\n",
       "      <th></th>\n",
       "      <th>Unnamed: 0</th>\n",
       "      <th>cwa_determination</th>\n",
       "      <th>da_number</th>\n",
       "      <th>district</th>\n",
       "      <th>longitude</th>\n",
       "      <th>latitude</th>\n",
       "      <th>potential_wetland</th>\n",
       "      <th>county</th>\n",
       "      <th>state</th>\n",
       "    </tr>\n",
       "  </thead>\n",
       "  <tbody>\n",
       "    <tr>\n",
       "      <th>0</th>\n",
       "      <td>0</td>\n",
       "      <td>0</td>\n",
       "      <td>LRB-1983-10120</td>\n",
       "      <td>Buffalo</td>\n",
       "      <td>-76.70773</td>\n",
       "      <td>42.85821</td>\n",
       "      <td>1</td>\n",
       "      <td>Cayuga</td>\n",
       "      <td>36.0</td>\n",
       "    </tr>\n",
       "    <tr>\n",
       "      <th>1</th>\n",
       "      <td>1</td>\n",
       "      <td>1</td>\n",
       "      <td>LRB-1985-69031</td>\n",
       "      <td>Buffalo</td>\n",
       "      <td>-75.85524</td>\n",
       "      <td>43.15230</td>\n",
       "      <td>0</td>\n",
       "      <td>Madison</td>\n",
       "      <td>36.0</td>\n",
       "    </tr>\n",
       "    <tr>\n",
       "      <th>2</th>\n",
       "      <td>2</td>\n",
       "      <td>1</td>\n",
       "      <td>LRB-1986-99614</td>\n",
       "      <td>Buffalo</td>\n",
       "      <td>-78.04046</td>\n",
       "      <td>42.68911</td>\n",
       "      <td>0</td>\n",
       "      <td>Wyoming</td>\n",
       "      <td>36.0</td>\n",
       "    </tr>\n",
       "    <tr>\n",
       "      <th>3</th>\n",
       "      <td>3</td>\n",
       "      <td>1</td>\n",
       "      <td>LRB-1990-97632</td>\n",
       "      <td>Buffalo</td>\n",
       "      <td>-78.77134</td>\n",
       "      <td>42.97994</td>\n",
       "      <td>1</td>\n",
       "      <td>Erie</td>\n",
       "      <td>36.0</td>\n",
       "    </tr>\n",
       "    <tr>\n",
       "      <th>4</th>\n",
       "      <td>4</td>\n",
       "      <td>1</td>\n",
       "      <td>LRB-1991-98611</td>\n",
       "      <td>Buffalo</td>\n",
       "      <td>-78.97142</td>\n",
       "      <td>43.21616</td>\n",
       "      <td>1</td>\n",
       "      <td>Niagara</td>\n",
       "      <td>36.0</td>\n",
       "    </tr>\n",
       "  </tbody>\n",
       "</table>\n",
       "</div>"
      ],
      "text/plain": [
       "   Unnamed: 0  cwa_determination       da_number district  longitude  latitude  potential_wetland   county  state\n",
       "0           0                  0  LRB-1983-10120  Buffalo  -76.70773  42.85821                  1   Cayuga   36.0\n",
       "1           1                  1  LRB-1985-69031  Buffalo  -75.85524  43.15230                  0  Madison   36.0\n",
       "2           2                  1  LRB-1986-99614  Buffalo  -78.04046  42.68911                  0  Wyoming   36.0\n",
       "3           3                  1  LRB-1990-97632  Buffalo  -78.77134  42.97994                  1     Erie   36.0\n",
       "4           4                  1  LRB-1991-98611  Buffalo  -78.97142  43.21616                  1  Niagara   36.0"
      ]
     },
     "execution_count": 3,
     "metadata": {},
     "output_type": "execute_result"
    }
   ],
   "source": [
    "# Bring the 14619 rows and 306 features\n",
    "features = '/Users/shobhasankar/W210/models/loc_15k_features.csv'\n",
    "df_300 = pd.read_csv(features)\n",
    "print(df_300.shape)\n",
    "df_300.head()"
   ]
  },
  {
   "cell_type": "code",
   "execution_count": 4,
   "metadata": {
    "scrolled": true
   },
   "outputs": [
    {
     "name": "stdout",
     "output_type": "stream",
     "text": [
      "(14619, 7)\n"
     ]
    }
   ],
   "source": [
    "# SET-1 Drop\n",
    "df_300.drop(['Unnamed: 0','da_number'],axis=1,inplace=True)\n",
    "print(df_300.shape)"
   ]
  },
  {
   "cell_type": "code",
   "execution_count": 5,
   "metadata": {},
   "outputs": [],
   "source": [
    "# Function to factorize district and county\n",
    "# No data leak here\n",
    "def cat_to_numeric_func (data, columns):\n",
    "    data[columns] = data[columns].apply(lambda x: pd.factorize(x)[0])\n",
    "    return data"
   ]
  },
  {
   "cell_type": "code",
   "execution_count": 6,
   "metadata": {},
   "outputs": [
    {
     "name": "stdout",
     "output_type": "stream",
     "text": [
      "Convert categorical to numerical columns: ['district', 'county']\n",
      "(14619, 7)\n"
     ]
    },
    {
     "data": {
      "text/html": [
       "<div>\n",
       "<style scoped>\n",
       "    .dataframe tbody tr th:only-of-type {\n",
       "        vertical-align: middle;\n",
       "    }\n",
       "\n",
       "    .dataframe tbody tr th {\n",
       "        vertical-align: top;\n",
       "    }\n",
       "\n",
       "    .dataframe thead th {\n",
       "        text-align: right;\n",
       "    }\n",
       "</style>\n",
       "<table border=\"1\" class=\"dataframe\">\n",
       "  <thead>\n",
       "    <tr style=\"text-align: right;\">\n",
       "      <th></th>\n",
       "      <th>cwa_determination</th>\n",
       "      <th>district</th>\n",
       "      <th>longitude</th>\n",
       "      <th>latitude</th>\n",
       "      <th>potential_wetland</th>\n",
       "      <th>county</th>\n",
       "      <th>state</th>\n",
       "    </tr>\n",
       "  </thead>\n",
       "  <tbody>\n",
       "    <tr>\n",
       "      <th>14614</th>\n",
       "      <td>0</td>\n",
       "      <td>36</td>\n",
       "      <td>-92.09857</td>\n",
       "      <td>34.32060</td>\n",
       "      <td>1</td>\n",
       "      <td>40</td>\n",
       "      <td>5.0</td>\n",
       "    </tr>\n",
       "    <tr>\n",
       "      <th>14615</th>\n",
       "      <td>0</td>\n",
       "      <td>36</td>\n",
       "      <td>-92.63156</td>\n",
       "      <td>35.90693</td>\n",
       "      <td>0</td>\n",
       "      <td>1141</td>\n",
       "      <td>5.0</td>\n",
       "    </tr>\n",
       "    <tr>\n",
       "      <th>14616</th>\n",
       "      <td>1</td>\n",
       "      <td>37</td>\n",
       "      <td>-95.55320</td>\n",
       "      <td>36.12439</td>\n",
       "      <td>0</td>\n",
       "      <td>1161</td>\n",
       "      <td>40.0</td>\n",
       "    </tr>\n",
       "    <tr>\n",
       "      <th>14617</th>\n",
       "      <td>1</td>\n",
       "      <td>37</td>\n",
       "      <td>-97.58169</td>\n",
       "      <td>35.65544</td>\n",
       "      <td>1</td>\n",
       "      <td>1146</td>\n",
       "      <td>40.0</td>\n",
       "    </tr>\n",
       "    <tr>\n",
       "      <th>14618</th>\n",
       "      <td>1</td>\n",
       "      <td>37</td>\n",
       "      <td>-98.98376</td>\n",
       "      <td>34.62336</td>\n",
       "      <td>1</td>\n",
       "      <td>997</td>\n",
       "      <td>40.0</td>\n",
       "    </tr>\n",
       "  </tbody>\n",
       "</table>\n",
       "</div>"
      ],
      "text/plain": [
       "       cwa_determination  district  longitude  latitude  potential_wetland  county  state\n",
       "14614                  0        36  -92.09857  34.32060                  1      40    5.0\n",
       "14615                  0        36  -92.63156  35.90693                  0    1141    5.0\n",
       "14616                  1        37  -95.55320  36.12439                  0    1161   40.0\n",
       "14617                  1        37  -97.58169  35.65544                  1    1146   40.0\n",
       "14618                  1        37  -98.98376  34.62336                  1     997   40.0"
      ]
     },
     "execution_count": 6,
     "metadata": {},
     "output_type": "execute_result"
    }
   ],
   "source": [
    "# Check for categorical columns\n",
    "cols = df_300.columns\n",
    "num_cols = df_300._get_numeric_data().columns\n",
    "column_list=list(set(cols) - set(num_cols))\n",
    "print(\"Convert categorical to numerical columns:\",column_list)\n",
    "\n",
    "cat_to_numeric_func(df_300, column_list)\n",
    "print(df_300.shape)\n",
    "df_300.tail()"
   ]
  },
  {
   "cell_type": "code",
   "execution_count": 7,
   "metadata": {},
   "outputs": [
    {
     "name": "stdout",
     "output_type": "stream",
     "text": [
      "[   0    1    2 ... 1176 1177 1178]\n",
      "[ 0  1  2  3  4  5  6  7  8  9 10 11 12 13 14 15 16 17 18 19 20 21 22 23\n",
      " 24 25 26 27 28 29 30 31 32 33 34 35 36 37]\n"
     ]
    }
   ],
   "source": [
    "print(df_300['county'].unique())\n",
    "print(df_300['district'].unique())"
   ]
  },
  {
   "cell_type": "code",
   "execution_count": 8,
   "metadata": {},
   "outputs": [
    {
     "data": {
      "text/html": [
       "<div>\n",
       "<style scoped>\n",
       "    .dataframe tbody tr th:only-of-type {\n",
       "        vertical-align: middle;\n",
       "    }\n",
       "\n",
       "    .dataframe tbody tr th {\n",
       "        vertical-align: top;\n",
       "    }\n",
       "\n",
       "    .dataframe thead th {\n",
       "        text-align: right;\n",
       "    }\n",
       "</style>\n",
       "<table border=\"1\" class=\"dataframe\">\n",
       "  <thead>\n",
       "    <tr style=\"text-align: right;\">\n",
       "      <th></th>\n",
       "      <th>cwa_determination</th>\n",
       "      <th>district</th>\n",
       "      <th>longitude</th>\n",
       "      <th>latitude</th>\n",
       "      <th>potential_wetland</th>\n",
       "      <th>county</th>\n",
       "      <th>state</th>\n",
       "    </tr>\n",
       "  </thead>\n",
       "  <tbody>\n",
       "    <tr>\n",
       "      <th>0</th>\n",
       "      <td>0</td>\n",
       "      <td>0</td>\n",
       "      <td>-76.70773</td>\n",
       "      <td>42.85821</td>\n",
       "      <td>1</td>\n",
       "      <td>0</td>\n",
       "      <td>36.0</td>\n",
       "    </tr>\n",
       "    <tr>\n",
       "      <th>1</th>\n",
       "      <td>1</td>\n",
       "      <td>0</td>\n",
       "      <td>-75.85524</td>\n",
       "      <td>43.15230</td>\n",
       "      <td>0</td>\n",
       "      <td>1</td>\n",
       "      <td>36.0</td>\n",
       "    </tr>\n",
       "    <tr>\n",
       "      <th>2</th>\n",
       "      <td>1</td>\n",
       "      <td>0</td>\n",
       "      <td>-78.04046</td>\n",
       "      <td>42.68911</td>\n",
       "      <td>0</td>\n",
       "      <td>2</td>\n",
       "      <td>36.0</td>\n",
       "    </tr>\n",
       "    <tr>\n",
       "      <th>3</th>\n",
       "      <td>1</td>\n",
       "      <td>0</td>\n",
       "      <td>-78.77134</td>\n",
       "      <td>42.97994</td>\n",
       "      <td>1</td>\n",
       "      <td>3</td>\n",
       "      <td>36.0</td>\n",
       "    </tr>\n",
       "    <tr>\n",
       "      <th>4</th>\n",
       "      <td>1</td>\n",
       "      <td>0</td>\n",
       "      <td>-78.97142</td>\n",
       "      <td>43.21616</td>\n",
       "      <td>1</td>\n",
       "      <td>4</td>\n",
       "      <td>36.0</td>\n",
       "    </tr>\n",
       "  </tbody>\n",
       "</table>\n",
       "</div>"
      ],
      "text/plain": [
       "   cwa_determination  district  longitude  latitude  potential_wetland  county  state\n",
       "0                  0         0  -76.70773  42.85821                  1       0   36.0\n",
       "1                  1         0  -75.85524  43.15230                  0       1   36.0\n",
       "2                  1         0  -78.04046  42.68911                  0       2   36.0\n",
       "3                  1         0  -78.77134  42.97994                  1       3   36.0\n",
       "4                  1         0  -78.97142  43.21616                  1       4   36.0"
      ]
     },
     "execution_count": 8,
     "metadata": {},
     "output_type": "execute_result"
    }
   ],
   "source": [
    "#Use a forward fill for state NaN\n",
    "# Need to use the context information to properly choose the state.\n",
    "# Double check this for data leak\n",
    "df_300[['state']] = df_300[['state']].fillna(method='ffill')\n",
    "df_300.head()"
   ]
  },
  {
   "cell_type": "code",
   "execution_count": 9,
   "metadata": {},
   "outputs": [
    {
     "data": {
      "text/plain": [
       "[]"
      ]
     },
     "execution_count": 9,
     "metadata": {},
     "output_type": "execute_result"
    }
   ],
   "source": [
    "# Clean up NaN after train/test/val split\n",
    "a = df_300.columns[df_300.isna().any()].tolist()\n",
    "a"
   ]
  },
  {
   "cell_type": "code",
   "execution_count": 10,
   "metadata": {},
   "outputs": [],
   "source": [
    "# Separate X and y for Stratifiedshuffle\n",
    "X = df_300.drop(['cwa_determination'], axis=1)\n",
    "y = df_300['cwa_determination']"
   ]
  },
  {
   "cell_type": "code",
   "execution_count": 11,
   "metadata": {},
   "outputs": [
    {
     "name": "stdout",
     "output_type": "stream",
     "text": [
      "\n",
      "Training Set 1 Samples: 5116\n",
      "\n",
      "Training Set 2 Samples: 5117\n",
      "\n",
      "Test Set Samples: 2193\n",
      "\n",
      "Validate Set Samples: 2193\n",
      "a11= 1613 a12= 1536  a2= 662  a3= 638\n",
      "b11= 5116 b12= 5117  b2= 2193  b3= 2193\n",
      "\n",
      "Training Set 1 Class Ratio: 0.46\n",
      "\n",
      "Training Set 2 Class Ratio: 0.43\n",
      "\n",
      "Test Set Class Ratio: 0.43\n",
      "\n",
      "Validation Set Class Ratio: 0.41\n"
     ]
    }
   ],
   "source": [
    "# Split data into train and test\n",
    "sss = StratifiedShuffleSplit(n_splits=2, test_size=0.3, random_state=42)\n",
    "for train_index, test_index in sss.split(X, y): # sss.split returns indices to split data\n",
    "  X_train, X_test = X.loc[train_index], X.loc[test_index] \n",
    "  y_train, y_test = y.loc[train_index], y.loc[test_index] \n",
    "\n",
    "# Split Train data into 2 equal sets\n",
    "sss_train = StratifiedShuffleSplit(n_splits=2, test_size=0.5, random_state=42)\n",
    "for train_index1, train_index2 in sss_train.split(X_train, y_train): \n",
    "  X_train1, X_train2 = X.loc[train_index1], X.loc[train_index2] \n",
    "  y_train1, y_train2 = y.loc[train_index1], y.loc[train_index2] \n",
    "\n",
    "# Split test data into 2 equal sets\n",
    "sss_test = StratifiedShuffleSplit(n_splits=2, test_size=0.5, random_state=42)\n",
    "for test_index, validate_index in sss_test.split(X_test, y_test): \n",
    "  X_test, X_val = X.loc[test_index], X.loc[validate_index] \n",
    "  y_test, y_val = y.loc[test_index], y.loc[validate_index] \n",
    "\n",
    "\n",
    "# verify number of records \n",
    "print(\"\\nTraining Set 1 Samples:\", len(X_train1))\n",
    "print(\"\\nTraining Set 2 Samples:\", len(X_train2))\n",
    "print(\"\\nTest Set Samples:\",len(X_test))\n",
    "print(\"\\nValidate Set Samples:\",len(X_val))\n",
    "\n",
    "\n",
    "# verify class ratios\n",
    "a11 = y_train1.sum()\n",
    "a12 = y_train2.sum()\n",
    "a2 = y_test.sum()\n",
    "a3 = y_val.sum()\n",
    "\n",
    "b11 = len(X_train1)\n",
    "b12 = len(X_train2)\n",
    "b2 = len(X_test)\n",
    "b3 = len(X_val)\n",
    "print(\"a11=\",a11,\"a12=\",a12, \" a2=\", a2, ' a3=',a3)\n",
    "print(\"b11=\",b11,\"b12=\",b12, \" b2=\", b2, ' b3=',b3)\n",
    "\n",
    "\n",
    "\n",
    "print(\"\\nTraining Set 1 Class Ratio:\", round(a11/(b11-a11),2))\n",
    "print(\"\\nTraining Set 2 Class Ratio:\", round(a12/(b12-a12),2))\n",
    "print(\"\\nTest Set Class Ratio:\", round(a2/(b2-a2),2))\n",
    "print(\"\\nValidation Set Class Ratio:\", round(a3/(b3-a3),2))"
   ]
  },
  {
   "cell_type": "code",
   "execution_count": 12,
   "metadata": {},
   "outputs": [
    {
     "name": "stdout",
     "output_type": "stream",
     "text": [
      "Features: (5116, 6) (5117, 6) (2193, 6) (2193, 6)\n",
      "CWA Determination: (5116,) (5117,) (2193,) (2193,)\n"
     ]
    },
    {
     "data": {
      "text/html": [
       "<div>\n",
       "<style scoped>\n",
       "    .dataframe tbody tr th:only-of-type {\n",
       "        vertical-align: middle;\n",
       "    }\n",
       "\n",
       "    .dataframe tbody tr th {\n",
       "        vertical-align: top;\n",
       "    }\n",
       "\n",
       "    .dataframe thead th {\n",
       "        text-align: right;\n",
       "    }\n",
       "</style>\n",
       "<table border=\"1\" class=\"dataframe\">\n",
       "  <thead>\n",
       "    <tr style=\"text-align: right;\">\n",
       "      <th></th>\n",
       "      <th>district</th>\n",
       "      <th>longitude</th>\n",
       "      <th>latitude</th>\n",
       "      <th>potential_wetland</th>\n",
       "      <th>county</th>\n",
       "      <th>state</th>\n",
       "    </tr>\n",
       "  </thead>\n",
       "  <tbody>\n",
       "    <tr>\n",
       "      <th>10185</th>\n",
       "      <td>26</td>\n",
       "      <td>-82.38995</td>\n",
       "      <td>27.43982</td>\n",
       "      <td>0</td>\n",
       "      <td>850</td>\n",
       "      <td>12.0</td>\n",
       "    </tr>\n",
       "    <tr>\n",
       "      <th>614</th>\n",
       "      <td>1</td>\n",
       "      <td>-88.02795</td>\n",
       "      <td>41.57571</td>\n",
       "      <td>1</td>\n",
       "      <td>52</td>\n",
       "      <td>17.0</td>\n",
       "    </tr>\n",
       "    <tr>\n",
       "      <th>4267</th>\n",
       "      <td>10</td>\n",
       "      <td>-88.59868</td>\n",
       "      <td>43.13575</td>\n",
       "      <td>0</td>\n",
       "      <td>40</td>\n",
       "      <td>55.0</td>\n",
       "    </tr>\n",
       "    <tr>\n",
       "      <th>7619</th>\n",
       "      <td>22</td>\n",
       "      <td>-117.00921</td>\n",
       "      <td>48.01107</td>\n",
       "      <td>0</td>\n",
       "      <td>768</td>\n",
       "      <td>16.0</td>\n",
       "    </tr>\n",
       "    <tr>\n",
       "      <th>6961</th>\n",
       "      <td>19</td>\n",
       "      <td>-97.11204</td>\n",
       "      <td>45.31021</td>\n",
       "      <td>1</td>\n",
       "      <td>671</td>\n",
       "      <td>46.0</td>\n",
       "    </tr>\n",
       "  </tbody>\n",
       "</table>\n",
       "</div>"
      ],
      "text/plain": [
       "       district  longitude  latitude  potential_wetland  county  state\n",
       "10185        26  -82.38995  27.43982                  0     850   12.0\n",
       "614           1  -88.02795  41.57571                  1      52   17.0\n",
       "4267         10  -88.59868  43.13575                  0      40   55.0\n",
       "7619         22 -117.00921  48.01107                  0     768   16.0\n",
       "6961         19  -97.11204  45.31021                  1     671   46.0"
      ]
     },
     "execution_count": 12,
     "metadata": {},
     "output_type": "execute_result"
    }
   ],
   "source": [
    "print(\"Features:\",X_train1.shape, X_train2.shape, X_val.shape, X_test.shape )\n",
    "print(\"CWA Determination:\",y_train1.shape, y_train2.shape, y_val.shape, y_test.shape)\n",
    "X_train1.head()"
   ]
  },
  {
   "cell_type": "code",
   "execution_count": 13,
   "metadata": {},
   "outputs": [
    {
     "data": {
      "text/plain": [
       "pandas.core.frame.DataFrame"
      ]
     },
     "execution_count": 13,
     "metadata": {},
     "output_type": "execute_result"
    }
   ],
   "source": [
    "type(X_train1)"
   ]
  },
  {
   "cell_type": "code",
   "execution_count": 14,
   "metadata": {},
   "outputs": [],
   "source": [
    "from sklearn.ensemble import RandomForestClassifier\n",
    "from sklearn.impute import SimpleImputer\n",
    "\n",
    "# Create our imputer to replace missing values with the mean e.g.\n",
    "imp = SimpleImputer(missing_values=np.nan, strategy='mean')\n",
    "\n",
    "imp = imp.fit(X_train)\n",
    "X_train = imp.transform(X_train)\n",
    "\n",
    "imp = imp.fit(X_train1)\n",
    "X_train1 = imp.transform(X_train1)\n",
    "\n",
    "imp = imp.fit(X_train2)\n",
    "X_train2 = imp.transform(X_train2)\n",
    "\n",
    "imp = imp.fit(X_val)\n",
    "X_val = imp.transform(X_val)\n",
    "\n",
    "imp = imp.fit(X_test)\n",
    "X_test = imp.transform(X_test)"
   ]
  },
  {
   "cell_type": "code",
   "execution_count": 15,
   "metadata": {},
   "outputs": [
    {
     "data": {
      "text/plain": [
       "False"
      ]
     },
     "execution_count": 15,
     "metadata": {},
     "output_type": "execute_result"
    }
   ],
   "source": [
    "np.isnan(np.sum(X_train))"
   ]
  },
  {
   "cell_type": "code",
   "execution_count": 16,
   "metadata": {},
   "outputs": [],
   "source": [
    "y_train1 = np.ravel(y_train1)\n",
    "y_train2 = np.ravel(y_train2)\n",
    "\n",
    "y_val = np.ravel(y_val)\n",
    "y_test = np.ravel(y_test)"
   ]
  },
  {
   "cell_type": "code",
   "execution_count": 17,
   "metadata": {},
   "outputs": [
    {
     "name": "stdout",
     "output_type": "stream",
     "text": [
      "(10233, 6) (2193, 6) (5116,) (5117,) (2193,) (2193,)\n"
     ]
    }
   ],
   "source": [
    "print(X_train.shape, X_val.shape, y_train1.shape, y_train2.shape, y_val.shape, y_test.shape)"
   ]
  },
  {
   "cell_type": "code",
   "execution_count": 18,
   "metadata": {},
   "outputs": [],
   "source": [
    "model1 = RandomForestClassifier(n_estimators=2000,random_state=42, class_weight={0:1,1:1}, min_samples_split=5,\n",
    "                             min_samples_leaf=1,bootstrap='False', max_features='auto')\n",
    "\n",
    "model2 = RandomForestClassifier(n_estimators=2000,random_state=42, class_weight={0:1,1:1}, min_samples_split=5,\n",
    "                             min_samples_leaf=1,bootstrap='False', max_features='auto')"
   ]
  },
  {
   "cell_type": "code",
   "execution_count": 19,
   "metadata": {},
   "outputs": [],
   "source": [
    "# Train 2 models for blending\n",
    "clf_1=model1.fit(X_train1, y_train1)\n",
    "clf_2=model2.fit(X_train2, y_train2)"
   ]
  },
  {
   "cell_type": "code",
   "execution_count": 20,
   "metadata": {},
   "outputs": [
    {
     "name": "stdout",
     "output_type": "stream",
     "text": [
      "Random Forest Model\n",
      "\n",
      "\n",
      "Classification Report: Train-Set-1\n",
      "\n",
      "              precision    recall  f1-score   support\n",
      "\n",
      "           0       0.91      0.93      0.92      1555\n",
      "           1       0.81      0.77      0.79       638\n",
      "\n",
      "    accuracy                           0.88      2193\n",
      "   macro avg       0.86      0.85      0.86      2193\n",
      "weighted avg       0.88      0.88      0.88      2193\n",
      "\n",
      "Train-Set-1 Balanced Accuracy Score: 85.04%\n",
      "Train-Set-1 AUC: 0.850 \n",
      "\n",
      "\n",
      "0.66 accuracy with a standard deviation of 0.03\n"
     ]
    },
    {
     "data": {
      "text/plain": [
       "<AxesSubplot:>"
      ]
     },
     "execution_count": 20,
     "metadata": {},
     "output_type": "execute_result"
    },
    {
     "data": {
      "image/png": "[encoded data removed]",
      "text/plain": [
       "<Figure size 432x288 with 2 Axes>"
      ]
     },
     "metadata": {
      "needs_background": "light"
     },
     "output_type": "display_data"
    }
   ],
   "source": [
    "# Predict for test data\n",
    "y_val_pred1 = clf_1.predict(X_val)\n",
    "y_val_pred_proba1 = clf_1.predict_proba(X_val)\n",
    "\n",
    "print(\"Random Forest Model\\n\")\n",
    "\n",
    "# print classification report\n",
    "result1 = classification_report(y_val, y_val_pred1)\n",
    "print(\"\\nClassification Report: Train-Set-1\\n\",)\n",
    "print(metrics.classification_report(y_val, y_val_pred1, digits=2))\n",
    "\n",
    "# print accuracy score\n",
    "print(\"Train-Set-1 Balanced Accuracy Score: %.2f%%\" % (metrics.balanced_accuracy_score(y_val, y_val_pred1)*100))\n",
    "\n",
    "# calculate AUC\n",
    "auc = roc_auc_score(y_val, y_val_pred1)\n",
    "print('Train-Set-1 AUC: %.3f' % auc, \"\\n\\n\")\n",
    "\n",
    "ppv = cross_val_score(clf_1, X_val, y_val, cv=10, scoring='precision')\n",
    "print(\"%0.2f accuracy with a standard deviation of %0.2f\" % (ppv.mean(), ppv.std()))\n",
    "\n",
    "# Generate pretty Confusion Matrix\n",
    "result = confusion_matrix(y_val, y_val_pred1)\n",
    "group_names = [\"TN1\",\"FP1\",\"FN1\",\"TP1\"]\n",
    "group_counts = [\"{0:0.0f}\".format(value) for value in\n",
    "                result.flatten()]\n",
    "group_percentages = [\"{0:.2%}\".format(value) for value in\n",
    "                     result.flatten()/np.sum(result)]\n",
    "\n",
    "labels = [f\"{v1}\\n\\n{v2}\\n\\n({v3})\" for v1, v2, v3 in\n",
    "          zip(group_names,group_counts,group_percentages)]\n",
    "              \n",
    "labels = np.asarray(labels).reshape(2,2)\n",
    "sns.heatmap(result, annot=labels, fmt=\"\", cmap='Reds')"
   ]
  },
  {
   "cell_type": "code",
   "execution_count": 21,
   "metadata": {},
   "outputs": [
    {
     "name": "stdout",
     "output_type": "stream",
     "text": [
      "Random Forest Model\n",
      "\n",
      "\n",
      "Classification Report: Train-Set-2\n",
      "\n",
      "              precision    recall  f1-score   support\n",
      "\n",
      "           0       0.89      0.93      0.91      1555\n",
      "           1       0.80      0.74      0.77       638\n",
      "\n",
      "    accuracy                           0.87      2193\n",
      "   macro avg       0.85      0.83      0.84      2193\n",
      "weighted avg       0.87      0.87      0.87      2193\n",
      "\n",
      "Train-Set-2 Balanced Accuracy Score: 83.03%\n",
      "Train-Set-1 AUC: 0.830 \n",
      "\n",
      "\n",
      "0.66 accuracy with a standard deviation of 0.03\n"
     ]
    },
    {
     "data": {
      "text/plain": [
       "<AxesSubplot:>"
      ]
     },
     "execution_count": 21,
     "metadata": {},
     "output_type": "execute_result"
    },
    {
     "data": {
      "image/png": "[encoded data removed]",
      "text/plain": [
       "<Figure size 432x288 with 2 Axes>"
      ]
     },
     "metadata": {
      "needs_background": "light"
     },
     "output_type": "display_data"
    }
   ],
   "source": [
    "# Predict for test data\n",
    "y_val_pred2 = clf_2.predict(X_val)\n",
    "y_pred_proba2 = clf_2.predict_proba(X_val)\n",
    "\n",
    "print(\"Random Forest Model\\n\")\n",
    "\n",
    "# print classification report\n",
    "result1 = classification_report(y_val, y_val_pred2)\n",
    "print(\"\\nClassification Report: Train-Set-2\\n\",)\n",
    "print(metrics.classification_report(y_val, y_val_pred2, digits=2))\n",
    "\n",
    "# print accuracy score\n",
    "print(\"Train-Set-2 Balanced Accuracy Score: %.2f%%\" % (metrics.balanced_accuracy_score(y_val, y_val_pred2)*100))\n",
    "\n",
    "# calculate AUC\n",
    "auc = roc_auc_score(y_val, y_val_pred2)\n",
    "print('Train-Set-1 AUC: %.3f' % auc, \"\\n\\n\")\n",
    "\n",
    "ppv = cross_val_score(clf_2, X_val, y_val, cv=10, scoring='precision')\n",
    "print(\"%0.2f accuracy with a standard deviation of %0.2f\" % (ppv.mean(), ppv.std()))\n",
    "\n",
    "# Generate pretty Confusion Matrix\n",
    "result = confusion_matrix(y_val, y_val_pred2)\n",
    "group_names = [\"TN2\",\"FP2\",\"FN2\",\"TP2\"]\n",
    "group_counts = [\"{0:0.0f}\".format(value) for value in\n",
    "                result.flatten()]\n",
    "group_percentages = [\"{0:.2%}\".format(value) for value in\n",
    "                     result.flatten()/np.sum(result)]\n",
    "\n",
    "labels = [f\"{v1}\\n\\n{v2}\\n\\n({v3})\" for v1, v2, v3 in\n",
    "          zip(group_names,group_counts,group_percentages)]\n",
    "              \n",
    "labels = np.asarray(labels).reshape(2,2)\n",
    "sns.heatmap(result, annot=labels, fmt=\"\", cmap='Reds')"
   ]
  },
  {
   "cell_type": "code",
   "execution_count": 22,
   "metadata": {},
   "outputs": [
    {
     "name": "stdout",
     "output_type": "stream",
     "text": [
      "0.66 accuracy with a standard deviation of 0.03\n",
      "0.66 accuracy with a standard deviation of 0.03\n",
      "2193 2193\n"
     ]
    }
   ],
   "source": [
    "# Get the predications and probabilities of train-1 on Validation Set\n",
    "y_val_pred1 = clf_1.predict(X_val)\n",
    "y_val_prob1 = clf_1.predict_proba(X_val).round(2)\n",
    "val_pred_prob1 = y_val_prob1[np.arange(len(y_val)), y_val_pred1]\n",
    "ppv = cross_val_score(clf_1, X_val, y_val, cv=10, scoring='precision')\n",
    "print(\"%0.2f accuracy with a standard deviation of %0.2f\" % (ppv.mean(), ppv.std()))\n",
    "\n",
    "# Get the predications and probabilities of train-1 on Validation Set\n",
    "y_val_pred2 = clf_2.predict(X_val)\n",
    "y_val_prob2 = clf_2.predict_proba(X_val).round(2)\n",
    "val_pred_prob2 = y_val_prob2[np.arange(len(y_val)), y_val_pred2]\n",
    "ppv = cross_val_score(clf_1, X_val, y_val, cv=10, scoring='precision')\n",
    "print(\"%0.2f accuracy with a standard deviation of %0.2f\" % (ppv.mean(), ppv.std()))\n",
    "\n",
    "\n",
    "print(len(val_pred_prob1), len(val_pred_prob2))\n",
    "\n",
    "# Make a dataframe\n",
    "# This is the train-final feature set to logistic regression\n",
    "val_vote_feat=pd.DataFrame({'CWA':y_val, 'Set-1':y_val_pred1, 'Prob-1': val_pred_prob1, \n",
    "                            'Set-2':y_val_pred2, 'Prob-2': val_pred_prob2})\n",
    "\n",
    "# print(val_vote_feat)"
   ]
  },
  {
   "cell_type": "code",
   "execution_count": 23,
   "metadata": {},
   "outputs": [
    {
     "name": "stdout",
     "output_type": "stream",
     "text": [
      "2193 2193\n"
     ]
    }
   ],
   "source": [
    "# Get the predications and probabilities of train-1 on Test Set\n",
    "# This is the test-final feature set for the ensemble\n",
    "y_test_pred1 = clf_1.predict(X_test)\n",
    "y_test_prob1 = clf_1.predict_proba(X_test).round(2)\n",
    "test_pred_prob1 = y_test_prob1[np.arange(len(y_test)), y_test_pred1]\n",
    "\n",
    "y_test_pred2 = clf_2.predict(X_test)\n",
    "y_test_prob2 = clf_2.predict_proba(X_test).round(2)\n",
    "test_pred_prob2 = y_test_prob2[np.arange(len(y_test)), y_test_pred2]\n",
    "\n",
    "# y_pred_1 = clf_1.predict(X_test)\n",
    "# y_pred_2 = clf_2.predict(X_test)\n",
    "\n",
    "print(len(test_pred_prob1), len(test_pred_prob2) )\n",
    "test_vote_feat=pd.DataFrame({'CWA':y_test, 'Set-1':y_test_pred1, 'Prob-1': test_pred_prob1, \n",
    "                           'Set-2':y_test_pred2, 'Prob-2': test_pred_prob2\n",
    "                           })"
   ]
  },
  {
   "cell_type": "code",
   "execution_count": 24,
   "metadata": {},
   "outputs": [
    {
     "name": "stdout",
     "output_type": "stream",
     "text": [
      "All_FN count: 41\n",
      "All_FP count: 19\n"
     ]
    }
   ],
   "source": [
    "col_list = ['Set-1', 'Set-2']\n",
    "val_vote_feat['sum'] = val_vote_feat[col_list].sum(axis=1)\n",
    "\n",
    "\n",
    "all_FN=val_vote_feat[(val_vote_feat['sum'] == 0) & (val_vote_feat['CWA'] == 1)]\n",
    "all_FP=val_vote_feat[(val_vote_feat['sum'] == 2) & (val_vote_feat['CWA'] == 0)]\n",
    "print(\"All_FN count:\", len(all_FN))\n",
    "print(\"All_FP count:\", len(all_FP))\n"
   ]
  },
  {
   "cell_type": "code",
   "execution_count": 25,
   "metadata": {},
   "outputs": [
    {
     "name": "stdout",
     "output_type": "stream",
     "text": [
      "(2193, 4) (2193, 4)\n"
     ]
    }
   ],
   "source": [
    "from sklearn.linear_model import LogisticRegression\n",
    "\n",
    "# col_list = ['CWA','Set-1','Prob-1','Set-2','Prob-2']\n",
    "col_list = ['CWA','Set-1','Prob-1','Set-2','Prob-2']\n",
    "\n",
    "X_train_vote = pd.DataFrame(val_vote_feat[col_list])\n",
    "X_test_vote = pd.DataFrame(test_vote_feat[col_list])\n",
    "\n",
    "# train_3, test_3 = train_test_split(df_pred_L2, test_size=0.2, random_state = 42)\n",
    "\n",
    "X_train_vote = X_train_vote.drop(['CWA'], axis=1)\n",
    "X_test_vote = X_test_vote.drop(['CWA'], axis=1)\n",
    "\n",
    "# X_test_3 = test_3.drop(['CWA'], axis=1)\n",
    "\n",
    "print(X_train_vote.shape, X_test_vote.shape)\n",
    "\n",
    "clf_final = LogisticRegression()\n",
    "\n",
    "clf_final = clf_final.fit(X_train_vote, y_val)\n",
    "y_pred_final = clf_final.predict(X_test_vote)"
   ]
  },
  {
   "cell_type": "code",
   "execution_count": 26,
   "metadata": {
    "scrolled": false
   },
   "outputs": [
    {
     "name": "stdout",
     "output_type": "stream",
     "text": [
      "(2193,) (2193,)\n",
      "Random Forest Ensemble Model\n",
      "\n",
      "\n",
      "Classification Report: Train-Set Ensemble\n",
      "\n",
      "              precision    recall  f1-score   support\n",
      "\n",
      "           0       0.93      0.90      0.91      1531\n",
      "           1       0.78      0.84      0.81       662\n",
      "\n",
      "    accuracy                           0.88      2193\n",
      "   macro avg       0.86      0.87      0.86      2193\n",
      "weighted avg       0.88      0.88      0.88      2193\n",
      "\n",
      "Train-Ensemble Balanced Accuracy Score: 86.92%\n",
      "Train-Ensemble AUC: 0.869 \n",
      "\n",
      "\n",
      "0.78 accuracy with a standard deviation of 0.04\n"
     ]
    },
    {
     "data": {
      "text/plain": [
       "<AxesSubplot:>"
      ]
     },
     "execution_count": 26,
     "metadata": {},
     "output_type": "execute_result"
    },
    {
     "data": {
      "image/png": "[encoded data removed]",
      "text/plain": [
       "<Figure size 432x288 with 2 Axes>"
      ]
     },
     "metadata": {
      "needs_background": "light"
     },
     "output_type": "display_data"
    }
   ],
   "source": [
    "# Predict for test data\n",
    "y_pred_final = clf_final.predict(X_test_vote)\n",
    "y_pred_proba_final = clf_final.predict_proba(X_test_vote)\n",
    "\n",
    "print(y_test.shape, y_pred_final.shape)\n",
    "print(\"Random Forest Ensemble Model\\n\")\n",
    "\n",
    "# print classification report\n",
    "result1 = classification_report(y_test, y_pred_final)\n",
    "print(\"\\nClassification Report: Train-Set Ensemble\\n\",)\n",
    "print(metrics.classification_report(y_test, y_pred_final, digits=2))\n",
    "\n",
    "# print accuracy score\n",
    "print(\"Train-Ensemble Balanced Accuracy Score: %.2f%%\" % (metrics.balanced_accuracy_score(y_test, y_pred_final)*100))\n",
    "\n",
    "# calculate AUC\n",
    "auc = roc_auc_score(y_test, y_pred_final)\n",
    "print('Train-Ensemble AUC: %.3f' % auc, \"\\n\\n\")\n",
    "\n",
    "ppv = cross_val_score(clf_final, X_test_vote, y_test, cv=10, scoring='precision')\n",
    "print(\"%0.2f accuracy with a standard deviation of %0.2f\" % (ppv.mean(), ppv.std()))\n",
    "\n",
    "# Generate pretty Confusion Matrix\n",
    "result = confusion_matrix(y_test, y_pred_final)\n",
    "group_names = [\"TNE\",\"FPE\",\"FNE\",\"TPE\"]\n",
    "group_counts = [\"{0:0.0f}\".format(value) for value in\n",
    "                result.flatten()]\n",
    "group_percentages = [\"{0:.2%}\".format(value) for value in\n",
    "                     result.flatten()/np.sum(result)]\n",
    "\n",
    "labels = [f\"{v1}\\n\\n{v2}\\n\\n({v3})\" for v1, v2, v3 in\n",
    "          zip(group_names,group_counts,group_percentages)]\n",
    "              \n",
    "labels = np.asarray(labels).reshape(2,2)\n",
    "sns.heatmap(result, annot=labels, fmt=\"\", cmap='Reds')"
   ]
  },
  {
   "cell_type": "code",
   "execution_count": 27,
   "metadata": {},
   "outputs": [
    {
     "name": "stdout",
     "output_type": "stream",
     "text": [
      "Model-1 accuracy score    : 0.8828\n",
      "Model-2 accuracy score    : 0.8700\n",
      "Blended accuracy score    : 0.8814\n",
      "\n",
      "Blended Balanced Accuracy : 0.8692\n"
     ]
    }
   ],
   "source": [
    "# Check accuracy score \n",
    "# Random Forest Model (imputed NaN with most_frequent)\n",
    "from sklearn.metrics import accuracy_score\n",
    "from sklearn.metrics import balanced_accuracy_score\n",
    "print('Model-1 accuracy score    : {0:0.4f}'. format(accuracy_score(y_val, y_val_pred1)))\n",
    "print('Model-2 accuracy score    : {0:0.4f}'. format(accuracy_score(y_val, y_val_pred2)))\n",
    "print('Blended accuracy score    : {0:0.4f}\\n'. format(accuracy_score(y_test, y_pred_final)))\n",
    "\n",
    "\n",
    "print('Blended Balanced Accuracy : {0:0.4f}'.format (balanced_accuracy_score(y_test, y_pred_final)))"
   ]
  },
  {
   "cell_type": "code",
   "execution_count": null,
   "metadata": {},
   "outputs": [],
   "source": [
    "## END OF SECTION ##"
   ]
  },
  {
   "cell_type": "code",
   "execution_count": null,
   "metadata": {},
   "outputs": [],
   "source": []
  },
  {
   "cell_type": "code",
   "execution_count": null,
   "metadata": {},
   "outputs": [],
   "source": []
  },
  {
   "cell_type": "code",
   "execution_count": null,
   "metadata": {},
   "outputs": [],
   "source": []
  }
 ],
 "metadata": {
  "kernelspec": {
   "display_name": "Python 3",
   "language": "python",
   "name": "python3"
  },
  "language_info": {
   "codemirror_mode": {
    "name": "ipython",
    "version": 3
   },
   "file_extension": ".py",
   "mimetype": "text/x-python",
   "name": "python",
   "nbconvert_exporter": "python",
   "pygments_lexer": "ipython3",
   "version": "3.7.6"
  }
 },
 "nbformat": 4,
 "nbformat_minor": 4
}
