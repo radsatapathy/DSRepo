{
 "cells": [
  {
   "cell_type": "markdown",
   "metadata": {},
   "source": [
    "## Skin Lesion Classification\n",
    "### W207 Final Group Project\n",
    "#### Suyash Dusad, Pavel Golukhin, Tyler Ryu, Radhika Satapathy"
   ]
  },
  {
   "cell_type": "markdown",
   "metadata": {},
   "source": [
    "### <span style=\"color:blue\">1. Import Python libraries"
   ]
  },
  {
   "cell_type": "code",
   "execution_count": 1,
   "metadata": {},
   "outputs": [],
   "source": [
    "# Import required python libraries\n",
    "\n",
    "import time\n",
    "import copy\n",
    "import csv\n",
    "import glob\n",
    "import cv2\n",
    "import os\n",
    "import random\n",
    "import pandas as pd\n",
    "import numpy as np\n",
    "import matplotlib.pyplot as plt\n",
    "import seaborn as sns\n",
    "import skimage as sk\n",
    "\n",
    "from matplotlib.legend_handler import HandlerLine2D\n",
    "from matplotlib.ticker import MultipleLocator\n",
    "\n",
    "from sklearn.pipeline import make_pipeline\n",
    "from sklearn.datasets import fetch_openml\n",
    "from sklearn.neighbors import KNeighborsClassifier\n",
    "from sklearn.linear_model import LinearRegression\n",
    "from sklearn.naive_bayes import BernoulliNB\n",
    "from sklearn.naive_bayes import MultinomialNB\n",
    "from sklearn.naive_bayes import GaussianNB\n",
    "from sklearn.linear_model import LogisticRegression\n",
    "from sklearn.svm import SVC\n",
    "from sklearn.decomposition import PCA\n",
    "from sklearn.metrics import confusion_matrix\n",
    "from sklearn.metrics import roc_curve, auc\n",
    "from sklearn.datasets import make_classification\n",
    "from sklearn.model_selection import GridSearchCV\n",
    "from sklearn.metrics import classification_report\n",
    "from sklearn.metrics import accuracy_score\n",
    "from sklearn.model_selection import train_test_split\n",
    "from sklearn import metrics\n",
    "from scipy.ndimage import gaussian_filter\n",
    "from sklearn import datasets\n",
    "from sklearn.discriminant_analysis import LinearDiscriminantAnalysis\n",
    "from sklearn.neighbors import (KNeighborsClassifier, NeighborhoodComponentsAnalysis)\n",
    "from sklearn.preprocessing import StandardScaler\n",
    "\n",
    "from imblearn.over_sampling import SMOTE\n",
    "from imblearn.over_sampling import ADASYN\n",
    "from imblearn.under_sampling import NearMiss\n",
    "\n",
    "from PIL import Image\n",
    "from cv2 import *\n",
    "from scipy import ndarray\n",
    "from skimage import transform\n",
    "from skimage import util\n",
    "from operator import itemgetter\n",
    "\n",
    "# Set the randomizer seed so results are the same each time.\n",
    "np.random.seed(123)\n",
    "\n",
    "pd.set_option('display.float_format', '{:.2f}'.format)\n",
    "\n",
    "# This tells matplotlib not to try opening a new window for each plot.\n",
    "%matplotlib inline"
   ]
  },
  {
   "cell_type": "markdown",
   "metadata": {},
   "source": [
    "### <span style=\"color:blue\">2. Load Image Data "
   ]
  },
  {
   "cell_type": "code",
   "execution_count": 2,
   "metadata": {},
   "outputs": [
    {
     "name": "stdout",
     "output_type": "stream",
     "text": [
      "10015\n",
      "10015\n"
     ]
    },
    {
     "name": "stderr",
     "output_type": "stream",
     "text": [
      "C:\\Users\\RadLaptop\\Anaconda3\\lib\\site-packages\\pandas\\core\\indexing.py:189: SettingWithCopyWarning: \n",
      "A value is trying to be set on a copy of a slice from a DataFrame\n",
      "\n",
      "See the caveats in the documentation: http://pandas.pydata.org/pandas-docs/stable/indexing.html#indexing-view-versus-copy\n",
      "  self._setitem_with_indexer(indexer, value)\n"
     ]
    }
   ],
   "source": [
    "# Specify path to where jpeg images are stored\n",
    "path = glob.glob(r\"../HAM10000_images/*.jpg\")\n",
    "\n",
    "# create an empty array to hold image data\n",
    "data = []\n",
    "\n",
    "# create an empty array to hold image ids\n",
    "image_id= []\n",
    "\n",
    "# Use cv2 to read in jpeg images into a numpy array of pixel values\n",
    "for f1 in path:\n",
    "    img = cv2.imread(f1)\n",
    "    img = cv2.resize(img,(28,28))\n",
    "    data.append(np.array(np.array(img).ravel()))\n",
    "    image_id.append(f1[f1.find('ISIC'):-4])\n",
    "    \n",
    "# Scale image data pixel values to range from (0-1)\n",
    "image_data=np.array(data)/255\n",
    "print(len(image_data))\n",
    "\n",
    "# Add image_ids to pixel data\n",
    "images_data_with_id=pd.DataFrame(image_data,image_id)\n",
    "images_data_with_id.reset_index(level=0, inplace=True)\n",
    "images_data_with_id.rename(columns ={'index':'image_id'}, inplace = True)\n",
    "\n",
    "# Loading meta data info into a pandas df from the csv\n",
    "metadata_df = pd.read_csv(r'../Data/HAM10000_metadata.csv')\n",
    "print(len(metadata_df))\n",
    "\n",
    "# Adding columns to denote classification names and labels\n",
    "metadata_df['lesion_type'] = 'x'\n",
    "metadata_df['label'] = 0\n",
    "\n",
    "# Create dictionaries that would help associate the 3 letter abbr. code with lesion types and numeric encodings\n",
    "# will be useful later\n",
    "\n",
    "lesion_types = {\n",
    "                'akiec':'Actinic keratoses',\n",
    "                'bcc':'Basal cell carcinoma', \n",
    "                'bkl':'Benign keratosis-like lesions', \n",
    "                'df':'Dermatofibroma', \n",
    "                'nv':'Melanocytic nevi', \n",
    "                'vasc':'Vascular lesions', \n",
    "                'mel':'Melanoma'                \n",
    "               }\n",
    "\n",
    "label_codes = {\n",
    "                0:'Actinic keratoses',\n",
    "                1:'Basal cell carcinoma', \n",
    "                2:'Benign keratosis-like lesions', \n",
    "                3:'Dermatofibroma', \n",
    "                4:'Melanocytic nevi', \n",
    "                5:'Vascular lesions', \n",
    "                6:'Melanoma'                \n",
    "               }\n",
    "\n",
    "labels = {\n",
    "            0:'akiec',\n",
    "            1:'bcc', \n",
    "            2:'bkl', \n",
    "            3:'df', \n",
    "            4:'nv', \n",
    "            5:'vasc', \n",
    "            6:'mel'                \n",
    "           }\n",
    "\n",
    "# update lesion_type with full form \n",
    "for key, value in lesion_types.items():\n",
    "    metadata_df['lesion_type'].loc[metadata_df['dx'] == key] = value    \n",
    "\n",
    "# update label with numeric encoding\n",
    "for key, value in labels.items():\n",
    "    metadata_df['label'].loc[metadata_df['dx'] == value] = key      \n",
    "      \n",
    "# create a merged df of pixel data alongwith metadata\n",
    "overall_data = pd.merge(metadata_df,images_data_with_id,on='image_id')\n",
    "\n",
    "# create numpy arrays of just pixel data(X) and labels(Y)\n",
    "X=np.array(overall_data.drop(['lesion_id','image_id','dx','dx_type','lesion_type','age','sex','localization', 'label'],axis=1))\n",
    "Y=np.array(overall_data['dx'])"
   ]
  },
  {
   "cell_type": "markdown",
   "metadata": {},
   "source": [
    "### <span style=\"color:blue\">3. EDA (Exploratory Data Analysis)\n"
   ]
  },
  {
   "cell_type": "code",
   "execution_count": 3,
   "metadata": {
    "scrolled": true
   },
   "outputs": [
    {
     "data": {
      "image/png": "[encoded data removed]",
      "text/plain": [
       "<Figure size 1440x1440 with 9 Axes>"
      ]
     },
     "metadata": {},
     "output_type": "display_data"
    }
   ],
   "source": [
    "# 3-1 Visualize samples\n",
    "\n",
    "# Display a given number of samples\n",
    "def display_img(data,num_examples=0):\n",
    "    \n",
    "    #setting the area for the plots of all images\n",
    "    plt.figure(figsize=(20,20))\n",
    "    \n",
    "    #running a loop for each data point in new_data\n",
    "    for i in range(num_examples):\n",
    "        \n",
    "        #setting the title for the plots\n",
    "        plt.suptitle(\"Examples of sample lesion images\",fontsize=20,y=0.93)\n",
    "        \n",
    "        #identifying number of sub plots needed based on the number of examples requested as input \n",
    "        plt.subplot(num_examples,3,i+1)\n",
    "        \n",
    "        #formatting the plots\n",
    "        plt.xticks([])\n",
    "        plt.yticks([])\n",
    "        plt.subplots_adjust(wspace=0, hspace=0.4)\n",
    "        plt.grid(False)\n",
    "        \n",
    "        #reshaping the data into a (28,28,3) grid to plot the data and plotting all the data points\n",
    "        plt.imshow(cv2.cvtColor(data[i].reshape((28, 28,3)), cv2.COLOR_BGR2RGB))\n",
    "    \n",
    "    plt.show() \n",
    "\n",
    "display_img(data,9)\n",
    "\n"
   ]
  },
  {
   "cell_type": "code",
   "execution_count": 4,
   "metadata": {
    "scrolled": true
   },
   "outputs": [
    {
     "name": "stdout",
     "output_type": "stream",
     "text": [
      "Cumulative counts of images of the various lesion types:\n",
      "\n",
      "Melanocytic nevi                 6705\n",
      "Melanoma                         1113\n",
      "Benign keratosis-like lesions    1099\n",
      "Basal cell carcinoma              514\n",
      "Actinic keratoses                 327\n",
      "Vascular lesions                  142\n",
      "Dermatofibroma                    115\n",
      "Name: lesion_type, dtype: int64\n"
     ]
    },
    {
     "data": {
      "image/png": "[encoded data removed]",
      "text/plain": [
       "<Figure size 720x432 with 1 Axes>"
      ]
     },
     "metadata": {
      "needs_background": "light"
     },
     "output_type": "display_data"
    }
   ],
   "source": [
    "# 3-2 Study distribution of classes across lesion types\n",
    "\n",
    "vc = overall_data[\"lesion_type\"].value_counts()\n",
    "\n",
    "print(\"Cumulative counts of images of the various lesion types:\\n\")\n",
    "print(vc)\n",
    "\n",
    "vc.plot(kind='bar',stacked=True, figsize=(10,6), alpha=0.7, title=\"Distribution of images by lesion types:\\n\")\n",
    "plt.show()\n"
   ]
  },
  {
   "cell_type": "markdown",
   "metadata": {},
   "source": [
    "#### <span style=\"color:blue\">Insight 1:\n",
    "\n",
    "The above plot reveals that the data is greatly imbalanced with the number of benign lesions overpowering the numbers of other types. For instance, confirmed melanoma samples constitute only 17% of the overall samples. This may call for data to be balanced prior to using it to train an ML model to avoid bias in results.\n",
    "\n",
    "Research revealed that there are many ways to balance data, oversampling the minority class and undersampling the majority class being the two primary options, which avoid the need for gathering more labeled samples prior to training.\n"
   ]
  },
  {
   "cell_type": "code",
   "execution_count": 5,
   "metadata": {
    "scrolled": false
   },
   "outputs": [
    {
     "name": "stdout",
     "output_type": "stream",
     "text": [
      "Cumulative counts of images of the various lesion types by validation technology:\n",
      "\n",
      "histo        5340\n",
      "follow_up    3704\n",
      "consensus     902\n",
      "confocal       69\n",
      "Name: dx_type, dtype: int64\n"
     ]
    },
    {
     "data": {
      "image/png": "[encoded data removed]",
      "text/plain": [
       "<Figure size 720x432 with 1 Axes>"
      ]
     },
     "metadata": {
      "needs_background": "light"
     },
     "output_type": "display_data"
    }
   ],
   "source": [
    "# 3-3 Distribution of lesion samples by validation technology\n",
    "\n",
    "vc = overall_data[\"dx_type\"].value_counts()\n",
    "\n",
    "print(\"Cumulative counts of images of the various lesion types by validation technology:\\n\")\n",
    "print(vc)\n",
    "\n",
    "vc.plot(kind='bar',stacked=True, figsize=(10,6), alpha=0.7, title=\"Distribution of images by validation technology\\n\")\n",
    "plt.show()\n"
   ]
  },
  {
   "cell_type": "code",
   "execution_count": 3,
   "metadata": {
    "scrolled": false
   },
   "outputs": [
    {
     "name": "stdout",
     "output_type": "stream",
     "text": [
      "Cumulative counts of images by localization and lesion types:\n",
      "\n",
      "abdomen            1022\n",
      "acral                 7\n",
      "back               2192\n",
      "chest               407\n",
      "ear                  56\n",
      "face                745\n",
      "foot                319\n",
      "genital              48\n",
      "hand                 90\n",
      "lower extremity    2077\n",
      "neck                168\n",
      "scalp               128\n",
      "trunk              1404\n",
      "unknown             234\n",
      "upper extremity    1118\n",
      "Name: localization, dtype: int64\n"
     ]
    },
    {
     "data": {
      "image/png": "[encoded data removed]",
      "text/plain": [
       "<Figure size 720x432 with 1 Axes>"
      ]
     },
     "metadata": {
      "needs_background": "light"
     },
     "output_type": "display_data"
    },
    {
     "data": {
      "image/png": "[encoded data removed]",
      "text/plain": [
       "<Figure size 720x432 with 1 Axes>"
      ]
     },
     "metadata": {
      "needs_background": "light"
     },
     "output_type": "display_data"
    },
    {
     "data": {
      "text/plain": [
       "<matplotlib.legend.Legend at 0x1e108b84358>"
      ]
     },
     "execution_count": 3,
     "metadata": {},
     "output_type": "execute_result"
    },
    {
     "data": {
      "image/png": "[encoded data removed]",
      "text/plain": [
       "<Figure size 864x576 with 1 Axes>"
      ]
     },
     "metadata": {
      "needs_background": "light"
     },
     "output_type": "display_data"
    }
   ],
   "source": [
    "# 3-4 Distribution of lesion samples by localization (i.e. place on the body where they occur)\n",
    "\n",
    "vc = overall_data[\"localization\"].value_counts().sort_index()\n",
    "\n",
    "print(\"Cumulative counts of images by localization and lesion types:\\n\")\n",
    "print(vc)\n",
    "\n",
    "vc.plot(kind='bar',stacked=True, figsize=(10,6), alpha=0.7, title=\"Distribution of images by localization and lesion types\\n\")\n",
    "plt.show()\n",
    "\n",
    "\n",
    "# 3-4 Plot histogram by localization by localization and lesion_type\n",
    "overall_data.groupby(['localization', 'lesion_type']).size().reset_index().pivot(columns='lesion_type', index='localization', values=0).plot(kind='bar',figsize=(10,6), stacked=True)\n",
    "plt.show()\n",
    "\n",
    "# 3-4 100% stacked bar chart for distribution by gender\n",
    "df_pct = (overall_data.groupby(['localization', 'lesion_type'])['dx'].count()/overall_data.groupby(['localization'])['dx'].count())\n",
    "df_pct.unstack().plot.bar(stacked=True,figsize=(12,8), title=\"Distribution of images by localization and lesion types\\n\" )\n",
    "plt.legend(bbox_to_anchor=(1.3,0.7), loc=\"upper right\")"
   ]
  },
  {
   "cell_type": "markdown",
   "metadata": {},
   "source": [
    "#### <span style=\"color:blue\">Insight 2: \n",
    "From the charts above we can see that certain body parts such as foot genital only have Melanocytic nevi lesions. It should be noted that we have lesion data for Melanoma and Melanocytic nevi lesions for almost all localizations. Also certain lesion types are mostly seen in certain localizations. For ex: Basal cell carcinoma (caused by sun burns) is mostly seen in back, chest, scalp, neck and and face - areas exposed to the sun and in tanning stations."
   ]
  },
  {
   "cell_type": "code",
   "execution_count": 7,
   "metadata": {
    "scrolled": false
   },
   "outputs": [
    {
     "name": "stdout",
     "output_type": "stream",
     "text": [
      "Cumulative counts of images by gender:\n",
      "\n",
      "male       5406\n",
      "female     4552\n",
      "unknown      57\n",
      "Name: sex, dtype: int64\n"
     ]
    },
    {
     "data": {
      "image/png": "[encoded data removed]",
      "text/plain": [
       "<Figure size 720x432 with 1 Axes>"
      ]
     },
     "metadata": {
      "needs_background": "light"
     },
     "output_type": "display_data"
    },
    {
     "data": {
      "image/png": "[encoded data removed]",
      "text/plain": [
       "<Figure size 657.375x288 with 1 Axes>"
      ]
     },
     "metadata": {
      "needs_background": "light"
     },
     "output_type": "display_data"
    }
   ],
   "source": [
    "# 3-5 Distribution of lesion samples by gender\n",
    "\n",
    "vc = overall_data[\"sex\"].value_counts()\n",
    "\n",
    "print(\"Cumulative counts of images by gender:\\n\")\n",
    "print(vc)\n",
    "\n",
    "vc.plot(kind='bar',stacked=True, figsize=(10,6), alpha=0.7, title=\"Distribution of images by gender and lesion types\\n\")\n",
    "plt.show()\n",
    "\n",
    "\n",
    "sns.catplot(x=\"dx\", hue=\"sex\",kind='count', data=overall_data, height=4, aspect=8/4)\n",
    "plt.show()"
   ]
  },
  {
   "cell_type": "markdown",
   "metadata": {},
   "source": [
    "#### <span style=\"color:blue\">Insight 3:\n",
    "It can be seen that almost all lesion types are evenly distributed across gender.It also confirms that there isn't any lesion type which is specific to a certain gender."
   ]
  },
  {
   "cell_type": "code",
   "execution_count": 8,
   "metadata": {
    "scrolled": false
   },
   "outputs": [
    {
     "name": "stdout",
     "output_type": "stream",
     "text": [
      "Cumulative counts of images by age and lesion types:\n",
      "\n",
      "0.00       39\n",
      "5.00       86\n",
      "10.00      41\n",
      "15.00      77\n",
      "20.00     169\n",
      "25.00     247\n",
      "30.00     464\n",
      "35.00     753\n",
      "40.00     985\n",
      "45.00    1299\n",
      "50.00    1187\n",
      "55.00    1009\n",
      "60.00     803\n",
      "65.00     731\n",
      "70.00     756\n",
      "75.00     618\n",
      "80.00     404\n",
      "85.00     290\n",
      "Name: age, dtype: int64\n"
     ]
    },
    {
     "data": {
      "image/png": "[encoded data removed]",
      "text/plain": [
       "<Figure size 1080x432 with 1 Axes>"
      ]
     },
     "metadata": {
      "needs_background": "light"
     },
     "output_type": "display_data"
    },
    {
     "data": {
      "image/png": "[encoded data removed]",
      "text/plain": [
       "<Figure size 1080x432 with 1 Axes>"
      ]
     },
     "metadata": {
      "needs_background": "light"
     },
     "output_type": "display_data"
    }
   ],
   "source": [
    "# 3-6 Distribution of lesion samples by age\n",
    "\n",
    "vc = overall_data[\"age\"].value_counts().sort_index()\n",
    "\n",
    "print(\"Cumulative counts of images by age and lesion types:\\n\")\n",
    "print(vc)\n",
    "\n",
    "vc.plot(kind='bar',stacked=True, figsize=(15,6), alpha=0.7, title=\"Distribution of images by age and lesion types:\\n\")\n",
    "plt.show()\n",
    "\n",
    "# Plot lesion_type against age\n",
    "plt.figure(figsize=(15,6))\n",
    "xyz = overall_data.groupby([\"dx\", \"age\"]).size().reset_index(name=\"total\")\n",
    "x = xyz.loc[xyz['age'] >0].age\n",
    "y = xyz.loc[xyz['age'] >0].dx\n",
    "z = xyz.loc[xyz['age'] >0].total\n",
    "plt.scatter(x, y, z*5, alpha=0.5, )\n",
    "plt.show()"
   ]
  },
  {
   "cell_type": "markdown",
   "metadata": {},
   "source": [
    "#### <span style=\"color:blue\">Insight 4:\n",
    "    \n",
    "The distribution reveals that most images were of lesions belonging to individuals from the 45-50 age group category. Further, a majority of lesions across all age categories are that of benign melanocytic moles. The cancareous lesion images seem to mostly belong to the 55-70 age category. \n"
   ]
  },
  {
   "cell_type": "code",
   "execution_count": 12,
   "metadata": {
    "scrolled": true
   },
   "outputs": [
    {
     "name": "stdout",
     "output_type": "stream",
     "text": [
      "4501\n",
      "4501\n"
     ]
    },
    {
     "data": {
      "image/png": "[encoded data removed]",
      "text/plain": [
       "<Figure size 432x288 with 1 Axes>"
      ]
     },
     "metadata": {
      "needs_background": "light"
     },
     "output_type": "display_data"
    },
    {
     "data": {
      "image/png": "[encoded data removed]",
      "text/plain": [
       "<Figure size 432x288 with 1 Axes>"
      ]
     },
     "metadata": {
      "needs_background": "light"
     },
     "output_type": "display_data"
    },
    {
     "data": {
      "image/png": "[encoded data removed]",
      "text/plain": [
       "<Figure size 432x288 with 1 Axes>"
      ]
     },
     "metadata": {
      "needs_background": "light"
     },
     "output_type": "display_data"
    },
    {
     "data": {
      "image/png": "[encoded data removed]",
      "text/plain": [
       "<Figure size 432x288 with 1 Axes>"
      ]
     },
     "metadata": {
      "needs_background": "light"
     },
     "output_type": "display_data"
    },
    {
     "data": {
      "image/png": "[encoded data removed]",
      "text/plain": [
       "<Figure size 432x288 with 1 Axes>"
      ]
     },
     "metadata": {
      "needs_background": "light"
     },
     "output_type": "display_data"
    },
    {
     "data": {
      "image/png": "[encoded data removed]",
      "text/plain": [
       "<Figure size 432x288 with 1 Axes>"
      ]
     },
     "metadata": {
      "needs_background": "light"
     },
     "output_type": "display_data"
    },
    {
     "data": {
      "image/png": "[encoded data removed]",
      "text/plain": [
       "<Figure size 432x288 with 1 Axes>"
      ]
     },
     "metadata": {
      "needs_background": "light"
     },
     "output_type": "display_data"
    }
   ],
   "source": [
    "# Check for duplicates of images\n",
    "\n",
    "my_list = pd.concat(g for _, g in overall_data.groupby(\"lesion_id\") if len(g) >= 2)\n",
    "indx_list = list(my_list.index.values)\n",
    "\n",
    "multi_img_X = np.array(data)[indx_list]\n",
    "print(len(multi_img_X))\n",
    "\n",
    "multi_img_Y = Y[indx_list]\n",
    "print(len(multi_img_Y))\n",
    "\n",
    "# Display some image pairs\n",
    "for num in range(0,7):\n",
    "    plt.imshow(cv2.cvtColor(multi_img_X[num].reshape((28, 28,3)), cv2.COLOR_BGR2RGB), cmap=plt.cm.binary, interpolation=\"nearest\")\n",
    "    plt.axis(\"off\")\n",
    "    plt.show()\n"
   ]
  },
  {
   "cell_type": "markdown",
   "metadata": {},
   "source": [
    "#### <span style=\"color:blue\">Insight 5: \n",
    "    \n",
    "There were a few lesion samples with multiple images taken at different zooms. We thought of initially removing them from the data set for training however later convened that they might be useful in helping us assess whether the magnification scale of the image impacted accuracy of classification. i.e. would an image of a lesion taken at X magnification be classified any more correctly or incorrectly by our trained classifier.\n"
   ]
  },
  {
   "cell_type": "markdown",
   "metadata": {},
   "source": [
    "### <span style=\"color:blue\">4. Prepare data for ML </span>\n",
    "(data cleaning, transformations, pre-processing, feature scaling, test-train splitting)"
   ]
  },
  {
   "cell_type": "code",
   "execution_count": 8,
   "metadata": {},
   "outputs": [
    {
     "name": "stdout",
     "output_type": "stream",
     "text": [
      "Data Shape : (10015, 2352)\n",
      "Label Shape : (10015,)\n"
     ]
    }
   ],
   "source": [
    "# SPLIT DATA\n",
    "\n",
    "# Set the randomizer seed so results are the same each time.\n",
    "np.random.seed(123)\n",
    "shuffle = np.random.permutation(np.arange(X.shape[0]))\n",
    "X, Y = X[shuffle], Y[shuffle]\n",
    "\n",
    "print(\"Data Shape :\", X.shape)\n",
    "print(\"Label Shape :\", Y.shape)\n",
    "\n",
    "# Set some variables to hold test, dev, and training data.\n",
    "test_data, test_labels = X[8000:], Y[8000:]\n",
    "dev_data, dev_labels = X[7000:8000], Y[7000:8000]\n",
    "train_data, train_labels = X[:7000], Y[:7000]\n",
    "mini_train_data, mini_train_labels = X[:1000], Y[:1000]\n",
    "    "
   ]
  },
  {
   "cell_type": "code",
   "execution_count": 14,
   "metadata": {},
   "outputs": [
    {
     "name": "stdout",
     "output_type": "stream",
     "text": [
      "\n",
      "SAMPLE BIAS ANALYSIS\n",
      "\n",
      "Lesion Type\tOriginal\tTrain\t\tTest\t\tDev\t\tMini_Train\n",
      "akiec :\t\t 3.27 \t\t 3.3 \t\t 3.08 \t\t 3.4 \t\t 3.0\n",
      "bcc :\t\t 5.13 \t\t 5.24 \t\t 5.16 \t\t 4.3 \t\t 5.2\n",
      "bkl :\t\t 10.97 \t\t 11.1 \t\t 10.22 \t\t 11.6 \t\t 9.7\n",
      "df :\t\t 1.15 \t\t 1.11 \t\t 1.19 \t\t 1.3 \t\t 0.9\n",
      "nv :\t\t 66.95 \t\t 66.74 \t\t 67.59 \t\t 67.1 \t\t 67.9\n",
      "vasc :\t\t 1.42 \t\t 1.46 \t\t 1.29 \t\t 1.4 \t\t 1.4\n",
      "mel :\t\t 11.11 \t\t 11.04 \t\t 11.46 \t\t 10.9 \t\t 11.9\n"
     ]
    }
   ],
   "source": [
    "# ASSESS SAMPLING BIAS i.e. whether the training and test subsets are representative of the overall sample set\n",
    "\n",
    "print(\"\\nSAMPLE BIAS ANALYSIS\")\n",
    "print(\"\\nLesion Type\\tOriginal\\tTrain\\t\\tTest\\t\\tDev\\t\\tMini_Train\")\n",
    "for key, value in lesion_types.items():\n",
    "    indx = np.where(Y==key)\n",
    "    indx_train = np.where(train_labels==key)\n",
    "    indx_test = np.where(test_labels==key)\n",
    "    indx_dev = np.where(dev_labels==key)\n",
    "    indx_mini_train = np.where(mini_train_labels==key)\n",
    "    print(key, \":\\t\\t\", round(len(X[indx])*100/len(X),2), \"\\t\\t\", \n",
    "          round(len(train_data[indx_train])*100/len(train_data),2), \"\\t\\t\", \n",
    "          round(len(test_data[indx_test])*100/len(test_data),2), \"\\t\\t\",\n",
    "          round(len(dev_data[indx_dev])*100/len(dev_data),2), \"\\t\\t\",\n",
    "          round(len(mini_train_data[indx_mini_train])*100/len(mini_train_data),2)\n",
    "         )"
   ]
  },
  {
   "cell_type": "markdown",
   "metadata": {},
   "source": [
    "### <span style=\"color:blue\">5. Generate Base Models</span>\n"
   ]
  },
  {
   "cell_type": "code",
   "execution_count": 9,
   "metadata": {},
   "outputs": [],
   "source": [
    "# Define functions needed for models\n",
    "\n",
    "def model_type(model,X_train,Y_train,X_test,Y_test):\n",
    "    \"\"\"\n",
    "    This function trains the specified model with the specified training data, \n",
    "    uses the trained model to predict using the specified test set,\n",
    "    and prints a classification report of the model\n",
    "    \"\"\"\n",
    "    \n",
    "    # Produce a model\n",
    "    clf = model\n",
    "\n",
    "    # Train the model using training data\n",
    "    clf.fit(X_train,Y_train)\n",
    "\n",
    "    # Predict using testing data\n",
    "    predicted = clf.predict(X_test)\n",
    "    \n",
    "    # Evaluate overall accuracy of model\n",
    "    accuracy = clf.score(X_test, Y_test)\n",
    "    print(\"\\nOverall Accuracy:\", accuracy)\n",
    "\n",
    "    # Generate classification report\n",
    "    print(\"\\nClassification Report:\\n\")\n",
    "    print(classification_report(Y_test, predicted))\n",
    "    \n",
    "    #INCLUDE CODE FOR PRINTING IMAGES OF SAMPLES MOST CONFUSED HERE, IF NEEDED\n",
    "    \n",
    "       \n",
    "\n",
    "def binarize_pixels(data, thresholds=0.5):\n",
    "    \"\"\"  \n",
    "    This function takes a data set and applies a threshold (based on the \n",
    "    the third values of the range of min/max values of the elements) to convert\n",
    "    continuous pixel values into one of 3 discrete values.\n",
    "    \"\"\" \n",
    "       \n",
    "    # Initialize a new array with the same shape as the original data.\n",
    "    bin_data = np.zeros(data.shape)\n",
    "\n",
    "    # Iterate through images and apply thresholds to each pixel value of the image\n",
    "    for img in range(data.shape[0]):\n",
    "\n",
    "        for feature in range(data.shape[1]):          \n",
    "\n",
    "            if data.item((img,feature)) < thresholds:\n",
    "                bin_data.itemset((img,feature),0) # pixel value < 0.5 categorized as white\n",
    "            else:\n",
    "                bin_data.itemset((img,feature),1)\n",
    "    return bin_data\n",
    "\n",
    "\n",
    "\n",
    "def discretize_pixels(data, thresholds=[0,0]):\n",
    "    \"\"\"  \n",
    "    This function takes a data set and applies a threshold (based on the \n",
    "    the third values of the range of min/max values of the elements) to convert\n",
    "    continuous pixel values into one of 3 discrete values.\n",
    "    \"\"\" \n",
    "    if thresholds == [0,0]    :\n",
    "        thresholds=np.around([(np.amax(data) - np.amin(data))/3, (np.amax(data) - np.amin(data))*2/3], decimals=1)    \n",
    "    #print(\"\\nThreshold Values:\", thresholds)\n",
    "\n",
    "    # Initialize a new array with the same shape as the original data.\n",
    "    multi_data = np.zeros(data.shape)\n",
    "\n",
    "    # Iterate through images and apply thresholds to each pixel value of the image\n",
    "    for img in range(data.shape[0]):\n",
    "\n",
    "        for feature in range(data.shape[1]):          \n",
    "\n",
    "            if data.item((img,feature)) < thresholds[0]:\n",
    "                multi_data.itemset((img,feature),0) # pixel value < 0.3 categorized as white\n",
    "\n",
    "            elif data.item((img,feature)) > thresholds[1]:\n",
    "                multi_data.itemset((img,feature),2) # pixel value > 0.7 categorized as gray\n",
    "\n",
    "            else:\n",
    "                multi_data.itemset((img,feature),1)\n",
    "    return multi_data\n"
   ]
  },
  {
   "cell_type": "markdown",
   "metadata": {},
   "source": [
    "#### Running base models"
   ]
  },
  {
   "cell_type": "code",
   "execution_count": 10,
   "metadata": {
    "scrolled": true
   },
   "outputs": [
    {
     "name": "stdout",
     "output_type": "stream",
     "text": [
      "Results for knn model:\n",
      "----------------------------------------------------------------------------------------------------\n",
      "\n",
      "Overall Accuracy: 0.678908188585608\n",
      "\n",
      "Classification Report:\n",
      "\n",
      "              precision    recall  f1-score   support\n",
      "\n",
      "       akiec       0.44      0.23      0.30        62\n",
      "         bcc       0.38      0.31      0.34       104\n",
      "         bkl       0.35      0.35      0.35       206\n",
      "          df       0.09      0.08      0.09        24\n",
      "         mel       0.35      0.16      0.22       231\n",
      "          nv       0.79      0.89      0.83      1362\n",
      "        vasc       0.14      0.19      0.16        26\n",
      "\n",
      "    accuracy                           0.68      2015\n",
      "   macro avg       0.36      0.31      0.33      2015\n",
      "weighted avg       0.64      0.68      0.65      2015\n",
      "\n",
      "----------------------------------------------------------------------------------------------------\n",
      "Results for BNB model:\n",
      "----------------------------------------------------------------------------------------------------\n",
      "\n",
      "Overall Accuracy: 0.36327543424317615\n",
      "\n",
      "Classification Report:\n",
      "\n",
      "              precision    recall  f1-score   support\n",
      "\n",
      "       akiec       0.17      0.19      0.18        62\n",
      "         bcc       0.10      0.60      0.18       104\n",
      "         bkl       0.20      0.19      0.20       206\n",
      "          df       0.02      0.08      0.04        24\n",
      "         mel       0.32      0.32      0.32       231\n",
      "          nv       0.83      0.39      0.53      1362\n",
      "        vasc       0.02      0.15      0.04        26\n",
      "\n",
      "    accuracy                           0.36      2015\n",
      "   macro avg       0.24      0.28      0.21      2015\n",
      "weighted avg       0.63      0.36      0.43      2015\n",
      "\n",
      "----------------------------------------------------------------------------------------------------\n",
      "Results for MNB model:\n",
      "----------------------------------------------------------------------------------------------------\n",
      "\n",
      "Overall Accuracy: 0.4774193548387097\n",
      "\n",
      "Classification Report:\n",
      "\n",
      "              precision    recall  f1-score   support\n",
      "\n",
      "       akiec       0.13      0.47      0.20        62\n",
      "         bcc       0.15      0.37      0.21       104\n",
      "         bkl       0.24      0.30      0.27       206\n",
      "          df       0.10      0.12      0.11        24\n",
      "         mel       0.21      0.34      0.26       231\n",
      "          nv       0.89      0.55      0.68      1362\n",
      "        vasc       0.21      0.19      0.20        26\n",
      "\n",
      "    accuracy                           0.48      2015\n",
      "   macro avg       0.27      0.33      0.28      2015\n",
      "weighted avg       0.66      0.48      0.54      2015\n",
      "\n",
      "----------------------------------------------------------------------------------------------------\n",
      "Results for Gaussian NB model:\n",
      "----------------------------------------------------------------------------------------------------\n",
      "\n",
      "Overall Accuracy: 0.4218362282878412\n",
      "\n",
      "Classification Report:\n",
      "\n",
      "              precision    recall  f1-score   support\n",
      "\n",
      "       akiec       0.15      0.15      0.15        62\n",
      "         bcc       0.16      0.53      0.25       104\n",
      "         bkl       0.25      0.46      0.33       206\n",
      "          df       0.03      0.12      0.05        24\n",
      "         mel       0.31      0.32      0.32       231\n",
      "          nv       0.93      0.45      0.60      1362\n",
      "        vasc       0.02      0.19      0.03        26\n",
      "\n",
      "    accuracy                           0.42      2015\n",
      "   macro avg       0.27      0.32      0.25      2015\n",
      "weighted avg       0.71      0.42      0.50      2015\n",
      "\n",
      "----------------------------------------------------------------------------------------------------\n",
      "Results for Logistic Regression model:\n",
      "----------------------------------------------------------------------------------------------------\n"
     ]
    },
    {
     "name": "stderr",
     "output_type": "stream",
     "text": [
      "C:\\Users\\RadLaptop\\Anaconda3\\lib\\site-packages\\sklearn\\linear_model\\logistic.py:432: FutureWarning: Default solver will be changed to 'lbfgs' in 0.22. Specify a solver to silence this warning.\n",
      "  FutureWarning)\n",
      "C:\\Users\\RadLaptop\\Anaconda3\\lib\\site-packages\\sklearn\\linear_model\\logistic.py:469: FutureWarning: Default multi_class will be changed to 'auto' in 0.22. Specify the multi_class option to silence this warning.\n",
      "  \"this warning.\", FutureWarning)\n"
     ]
    },
    {
     "name": "stdout",
     "output_type": "stream",
     "text": [
      "\n",
      "Overall Accuracy: 0.7017369727047147\n",
      "\n",
      "Classification Report:\n",
      "\n",
      "              precision    recall  f1-score   support\n",
      "\n",
      "       akiec       0.32      0.11      0.17        62\n",
      "         bcc       0.49      0.35      0.40       104\n",
      "         bkl       0.39      0.26      0.31       206\n",
      "          df       1.00      0.08      0.15        24\n",
      "         mel       0.31      0.13      0.18       231\n",
      "          nv       0.76      0.94      0.84      1362\n",
      "        vasc       0.64      0.27      0.38        26\n",
      "\n",
      "    accuracy                           0.70      2015\n",
      "   macro avg       0.56      0.31      0.35      2015\n",
      "weighted avg       0.65      0.70      0.66      2015\n",
      "\n",
      "----------------------------------------------------------------------------------------------------\n",
      "Results for SVM model:\n",
      "----------------------------------------------------------------------------------------------------\n"
     ]
    },
    {
     "name": "stderr",
     "output_type": "stream",
     "text": [
      "C:\\Users\\RadLaptop\\Anaconda3\\lib\\site-packages\\sklearn\\svm\\base.py:193: FutureWarning: The default value of gamma will change from 'auto' to 'scale' in version 0.22 to account better for unscaled features. Set gamma explicitly to 'auto' or 'scale' to avoid this warning.\n",
      "  \"avoid this warning.\", FutureWarning)\n"
     ]
    },
    {
     "name": "stdout",
     "output_type": "stream",
     "text": [
      "\n",
      "Overall Accuracy: 0.6759305210918114\n",
      "\n",
      "Classification Report:\n",
      "\n",
      "              precision    recall  f1-score   support\n",
      "\n",
      "       akiec       0.00      0.00      0.00        62\n",
      "         bcc       0.00      0.00      0.00       104\n",
      "         bkl       0.00      0.00      0.00       206\n",
      "          df       0.00      0.00      0.00        24\n",
      "         mel       0.00      0.00      0.00       231\n",
      "          nv       0.68      1.00      0.81      1362\n",
      "        vasc       0.00      0.00      0.00        26\n",
      "\n",
      "    accuracy                           0.68      2015\n",
      "   macro avg       0.10      0.14      0.12      2015\n",
      "weighted avg       0.46      0.68      0.55      2015\n",
      "\n"
     ]
    },
    {
     "name": "stderr",
     "output_type": "stream",
     "text": [
      "C:\\Users\\RadLaptop\\Anaconda3\\lib\\site-packages\\sklearn\\metrics\\classification.py:1437: UndefinedMetricWarning: Precision and F-score are ill-defined and being set to 0.0 in labels with no predicted samples.\n",
      "  'precision', 'predicted', average, warn_for)\n",
      "C:\\Users\\RadLaptop\\Anaconda3\\lib\\site-packages\\sklearn\\metrics\\classification.py:1437: UndefinedMetricWarning: Precision and F-score are ill-defined and being set to 0.0 in labels with no predicted samples.\n",
      "  'precision', 'predicted', average, warn_for)\n",
      "C:\\Users\\RadLaptop\\Anaconda3\\lib\\site-packages\\sklearn\\metrics\\classification.py:1437: UndefinedMetricWarning: Precision and F-score are ill-defined and being set to 0.0 in labels with no predicted samples.\n",
      "  'precision', 'predicted', average, warn_for)\n"
     ]
    }
   ],
   "source": [
    "# Define function for running all models\n",
    "\n",
    "\n",
    "def models(X_train,X_train_labels,X_test,X_test_labels):\n",
    "    \"\"\"\n",
    "    This function converts the train and test data sets to the appropriate input representation \n",
    "    required by the various ML models and invokes the functions to execute the models with the \n",
    "    transformed data\n",
    "    \"\"\"\n",
    "    \n",
    "    #run Knn model\n",
    "    print('Results for knn model:')\n",
    "    print('-'*100)\n",
    "    model_type(KNeighborsClassifier(n_neighbors=1),X_train,X_train_labels,X_test,X_test_labels)\n",
    "    print('-'*100)\n",
    "    \n",
    "    #run BNB model\n",
    "    # Binarize input data\n",
    "    bin_X_train = binarize_pixels(X_train,)\n",
    "    bin_X_test = binarize_pixels(X_test,)\n",
    "    print('Results for BNB model:')\n",
    "    print('-'*100)\n",
    "    model_type(BernoulliNB(),bin_X_train,X_train_labels,bin_X_test,X_test_labels)\n",
    "    print('-'*100)\n",
    "    \n",
    "    #run MNB model\n",
    "    multi_X_train = discretize_pixels(X_train,)\n",
    "    multi_X_test = discretize_pixels(X_test,)\n",
    "    print('Results for MNB model:')\n",
    "    print('-'*100)\n",
    "    model_type(MultinomialNB(),multi_X_train,X_train_labels,multi_X_test,X_test_labels)\n",
    "    print('-'*100)\n",
    "    \n",
    "    #run Gaussian NB model\n",
    "    print('Results for Gaussian NB model:')\n",
    "    print('-'*100)\n",
    "    model_type(GaussianNB(),X_train,X_train_labels,X_test,X_test_labels)\n",
    "    print('-'*100)\n",
    "    \n",
    "    #run Logistic regression model\n",
    "    print('Results for Logistic Regression model:')\n",
    "    print('-'*100)\n",
    "    model_type(LogisticRegression(),X_train,X_train_labels,X_test,X_test_labels)\n",
    "    print('-'*100)\n",
    "    \n",
    "    #run SVM model\n",
    "    print('Results for SVM model:')\n",
    "    print('-'*100)\n",
    "    model_type(SVC(),X_train,X_train_labels,X_test,X_test_labels)\n",
    "    \n",
    "    \n",
    "    \n",
    "models(train_data,train_labels,test_data,test_labels)"
   ]
  },
  {
   "cell_type": "markdown",
   "metadata": {},
   "source": [
    "#### Confusion Matrix and Samples Confused"
   ]
  },
  {
   "cell_type": "code",
   "execution_count": 17,
   "metadata": {
    "scrolled": false
   },
   "outputs": [
    {
     "name": "stderr",
     "output_type": "stream",
     "text": [
      "C:\\Users\\suydu\\Anaconda3\\lib\\site-packages\\sklearn\\linear_model\\logistic.py:432: FutureWarning: Default solver will be changed to 'lbfgs' in 0.22. Specify a solver to silence this warning.\n",
      "  FutureWarning)\n",
      "C:\\Users\\suydu\\Anaconda3\\lib\\site-packages\\sklearn\\linear_model\\logistic.py:469: FutureWarning: Default multi_class will be changed to 'auto' in 0.22. Specify the multi_class option to silence this warning.\n",
      "  \"this warning.\", FutureWarning)\n"
     ]
    },
    {
     "name": "stdout",
     "output_type": "stream",
     "text": [
      "\n",
      "Confusion Matrix:\n",
      "\n",
      "[[   7   11    9    0    4   30    1]\n",
      " [   2   36   16    0    5   45    0]\n",
      " [   3    4   54    0   22  122    1]\n",
      " [   2    7    1    2    1   11    0]\n",
      " [   6    5   19    0   30  171    0]\n",
      " [   2    9   37    0   34 1278    2]\n",
      " [   0    2    1    0    1   15    7]]\n"
     ]
    },
    {
     "data": {
      "image/png": "[encoded data removed]",
      "text/plain": [
       "<Figure size 288x288 with 1 Axes>"
      ]
     },
     "metadata": {
      "needs_background": "light"
     },
     "output_type": "display_data"
    },
    {
     "name": "stdout",
     "output_type": "stream",
     "text": [
      "\n",
      "Lesions most confused are: Melanocytic nevis with Vascular lesionss\n",
      "\n"
     ]
    }
   ],
   "source": [
    "# Code for printing confusion matrix and confused samples \n",
    "\n",
    "\n",
    "# Prep code\n",
    "\n",
    "# Produce a model\n",
    "clf = LogisticRegression()\n",
    "\n",
    "# Train the model using training data\n",
    "clf.fit(train_data,train_labels)\n",
    "\n",
    "# Predict using testing data\n",
    "predicted = clf.predict(test_data)\n",
    "\n",
    "\n",
    "# -----------Actual code begins here: plug this into model_type as needed  ----------------------  \n",
    "    \n",
    "# Generate confusion matrix\n",
    "print(\"\\nConfusion Matrix:\\n\")\n",
    "conf_mx = confusion_matrix(test_labels, predicted)\n",
    "print(conf_mx)\n",
    "\n",
    "# Normalize confusion matrix numbers to reflect error_rates as opposed to #errors \n",
    "row_sums = conf_mx.sum(axis=1, keepdims=True)\n",
    "norm_conf_mx = conf_mx/row_sums\n",
    "np.fill_diagonal(norm_conf_mx, 0) #Replace diagonal elements to zero to obtain a matrix of just error rates\n",
    "\n",
    "# Plot normalized confusion matrix\n",
    "plt.matshow(norm_conf_mx, cmap=plt.cm.gray) \n",
    "plt.show()\n",
    "\n",
    "# Locate images most often confused/ misclassified ->(max. error rate)\n",
    "result = np.where(norm_conf_mx == np.amax(norm_conf_mx))\n",
    "coords_list = list(zip(result[0], result[1]))\n",
    "for coord in coords_list:\n",
    "    (d1,d2) = coord\n",
    "    print(\"\\nLesions most confused are: \"+ label_codes[d1] + \"s with \" \n",
    "          + label_codes[d2] +\"s\\n\")\n",
    " \n"
   ]
  },
  {
   "cell_type": "code",
   "execution_count": 18,
   "metadata": {
    "scrolled": true
   },
   "outputs": [
    {
     "data": {
      "image/png": "[encoded data removed]",
      "text/plain": [
       "<Figure size 1440x1440 with 3 Axes>"
      ]
     },
     "metadata": {},
     "output_type": "display_data"
    },
    {
     "data": {
      "image/png": "[encoded data removed]",
      "text/plain": [
       "<Figure size 1440x1440 with 3 Axes>"
      ]
     },
     "metadata": {},
     "output_type": "display_data"
    }
   ],
   "source": [
    "# Display 3 samples each of the confused lesion types\n",
    "   \n",
    "image_df = overall_data.loc[overall_data['label'] == d1]\n",
    "indx_list = list(image_df.index.values)\n",
    "image_arr = np.array(data)[indx_list]\n",
    "display_img(image_arr,3)\n",
    "\n",
    "    \n",
    "image_df = overall_data.loc[overall_data['label'] == d2]\n",
    "indx_list = list(image_df.index.values)\n",
    "image_arr = np.array(data)[indx_list]\n",
    "display_img(image_arr,3)\n",
    "    "
   ]
  },
  {
   "cell_type": "markdown",
   "metadata": {},
   "source": [
    "### <span style=\"color:blue\">6. Pre-processing Techniques</span>"
   ]
  },
  {
   "cell_type": "markdown",
   "metadata": {},
   "source": [
    "#### 6-1 Dimensionality Reduction using PCA"
   ]
  },
  {
   "cell_type": "code",
   "execution_count": 19,
   "metadata": {
    "scrolled": true
   },
   "outputs": [
    {
     "name": "stdout",
     "output_type": "stream",
     "text": [
      "Explained Variance\t# PCA Components\n",
      "\n",
      "0.8 \t\t\t 10 \n",
      "\n",
      "0.87 \t\t\t 20 \n",
      "\n",
      "0.91 \t\t\t 50 \n",
      "\n",
      "0.93 \t\t\t 75 \n",
      "\n",
      "0.94 \t\t\t 100 \n",
      "\n",
      "0.96 \t\t\t 200 \n",
      "\n",
      "0.97 \t\t\t 300 \n",
      "\n",
      "0.98 \t\t\t 400 \n",
      "\n",
      "0.98 \t\t\t 500 \n",
      "\n"
     ]
    },
    {
     "data": {
      "image/png": "[encoded data removed]",
      "text/plain": [
       "<Figure size 432x288 with 1 Axes>"
      ]
     },
     "metadata": {
      "needs_background": "light"
     },
     "output_type": "display_data"
    }
   ],
   "source": [
    "# Find best value for n_components at 90% and 99% total explained variance\n",
    "\n",
    "start_time=time.time()\n",
    "\n",
    "# Define data to be reduced\n",
    "X_train = train_data\n",
    "X_test = dev_data\n",
    "\n",
    "print(\"Explained Variance\\t# PCA Components\\n\" )\n",
    "\n",
    "for n in [10, 20, 50, 75, 100, 200, 300, 400, 500]:\n",
    "    \n",
    "    # Project data \n",
    "    pca = PCA(n_components=n)\n",
    "    X_train_proj = pca.fit_transform(X_train)\n",
    "    X_test_proj = pca.transform(X_test)\n",
    "   \n",
    "    # Evaluate explained_variance\n",
    "    info_retained = sum(pca.explained_variance_ratio_)\n",
    "    \n",
    "    print(round(info_retained,2),\"\\t\\t\\t\", n,'\\n')\n",
    "   \n",
    "    \n",
    "# Plot explained variance Vs number of PCA components \n",
    "plt.xlim([-3, 300])\n",
    "plt.ylim([0.5, 1.1])\n",
    "plt.plot(np.cumsum(pca.explained_variance_ratio_))\n",
    "plt.xlabel('number of components')\n",
    "plt.ylabel('cumulative explained variance')\n",
    "plt.axhline(0.99, color=\"gray\")\n",
    "plt.axhline(0.90, color=\"gray\")\n",
    "plt.title(\"Explained Variance Vs Number of PCA components\", fontsize=12)\n",
    "plt.show()"
   ]
  },
  {
   "cell_type": "code",
   "execution_count": 20,
   "metadata": {
    "scrolled": true
   },
   "outputs": [
    {
     "name": "stdout",
     "output_type": "stream",
     "text": [
      "Accuracy when data is reduced to 50 principal components:\n",
      "Results for knn model:\n",
      "----------------------------------------------------------------------------------------------------\n",
      "\n",
      "Overall Accuracy: 0.6774193548387096\n",
      "\n",
      "Classification Report:\n",
      "\n",
      "              precision    recall  f1-score   support\n",
      "\n",
      "       akiec       0.42      0.31      0.36        62\n",
      "         bcc       0.37      0.35      0.36       104\n",
      "         bkl       0.35      0.36      0.36       206\n",
      "          df       0.00      0.00      0.00        24\n",
      "         mel       0.37      0.26      0.30       231\n",
      "          nv       0.81      0.86      0.84      1362\n",
      "        vasc       0.15      0.23      0.18        26\n",
      "\n",
      "    accuracy                           0.68      2015\n",
      "   macro avg       0.35      0.34      0.34      2015\n",
      "weighted avg       0.66      0.68      0.67      2015\n",
      "\n",
      "----------------------------------------------------------------------------------------------------\n",
      "Results for BNB model:\n",
      "----------------------------------------------------------------------------------------------------\n",
      "\n",
      "Overall Accuracy: 0.6754342431761786\n",
      "\n",
      "Classification Report:\n",
      "\n",
      "              precision    recall  f1-score   support\n",
      "\n",
      "       akiec       0.22      0.06      0.10        62\n",
      "         bcc       0.38      0.31      0.34       104\n",
      "         bkl       0.31      0.17      0.22       206\n",
      "          df       0.00      0.00      0.00        24\n",
      "         mel       0.32      0.13      0.19       231\n",
      "          nv       0.74      0.92      0.82      1362\n",
      "        vasc       0.40      0.15      0.22        26\n",
      "\n",
      "    accuracy                           0.68      2015\n",
      "   macro avg       0.34      0.25      0.27      2015\n",
      "weighted avg       0.60      0.68      0.62      2015\n",
      "\n",
      "----------------------------------------------------------------------------------------------------\n",
      "Results for MNB model:\n",
      "----------------------------------------------------------------------------------------------------\n",
      "\n",
      "Overall Accuracy: 0.6759305210918114\n",
      "\n",
      "Classification Report:\n",
      "\n",
      "              precision    recall  f1-score   support\n",
      "\n",
      "       akiec       0.00      0.00      0.00        62\n",
      "         bcc       0.00      0.00      0.00       104\n",
      "         bkl       0.00      0.00      0.00       206\n",
      "          df       0.00      0.00      0.00        24\n",
      "         mel       0.00      0.00      0.00       231\n",
      "          nv       0.68      1.00      0.81      1362\n",
      "        vasc       0.00      0.00      0.00        26\n",
      "\n",
      "    accuracy                           0.68      2015\n",
      "   macro avg       0.10      0.14      0.12      2015\n",
      "weighted avg       0.46      0.68      0.55      2015\n",
      "\n",
      "----------------------------------------------------------------------------------------------------\n",
      "Results for Gaussian NB model:\n",
      "----------------------------------------------------------------------------------------------------\n",
      "\n",
      "Overall Accuracy: 0.6307692307692307\n",
      "\n",
      "Classification Report:\n",
      "\n",
      "              precision    recall  f1-score   support\n",
      "\n",
      "       akiec       0.33      0.11      0.17        62\n",
      "         bcc       0.37      0.23      0.28       104\n",
      "         bkl       0.29      0.11      0.16       206\n",
      "          df       0.11      0.42      0.17        24\n",
      "         mel       0.29      0.45      0.35       231\n",
      "          nv       0.79      0.81      0.80      1362\n",
      "        vasc       0.25      0.12      0.16        26\n",
      "\n",
      "    accuracy                           0.63      2015\n",
      "   macro avg       0.35      0.32      0.30      2015\n",
      "weighted avg       0.63      0.63      0.62      2015\n",
      "\n",
      "----------------------------------------------------------------------------------------------------\n",
      "Results for Logistic Regression model:\n",
      "----------------------------------------------------------------------------------------------------\n"
     ]
    },
    {
     "name": "stderr",
     "output_type": "stream",
     "text": [
      "C:\\Users\\suydu\\Anaconda3\\lib\\site-packages\\sklearn\\metrics\\classification.py:1437: UndefinedMetricWarning: Precision and F-score are ill-defined and being set to 0.0 in labels with no predicted samples.\n",
      "  'precision', 'predicted', average, warn_for)\n",
      "C:\\Users\\suydu\\Anaconda3\\lib\\site-packages\\sklearn\\metrics\\classification.py:1437: UndefinedMetricWarning: Precision and F-score are ill-defined and being set to 0.0 in labels with no predicted samples.\n",
      "  'precision', 'predicted', average, warn_for)\n",
      "C:\\Users\\suydu\\Anaconda3\\lib\\site-packages\\sklearn\\metrics\\classification.py:1437: UndefinedMetricWarning: Precision and F-score are ill-defined and being set to 0.0 in labels with no predicted samples.\n",
      "  'precision', 'predicted', average, warn_for)\n",
      "C:\\Users\\suydu\\Anaconda3\\lib\\site-packages\\sklearn\\linear_model\\logistic.py:432: FutureWarning: Default solver will be changed to 'lbfgs' in 0.22. Specify a solver to silence this warning.\n",
      "  FutureWarning)\n",
      "C:\\Users\\suydu\\Anaconda3\\lib\\site-packages\\sklearn\\linear_model\\logistic.py:469: FutureWarning: Default multi_class will be changed to 'auto' in 0.22. Specify the multi_class option to silence this warning.\n",
      "  \"this warning.\", FutureWarning)\n"
     ]
    },
    {
     "name": "stdout",
     "output_type": "stream",
     "text": [
      "\n",
      "Overall Accuracy: 0.6972704714640199\n",
      "\n",
      "Classification Report:\n",
      "\n",
      "              precision    recall  f1-score   support\n",
      "\n",
      "       akiec       0.33      0.06      0.11        62\n",
      "         bcc       0.44      0.27      0.34       104\n",
      "         bkl       0.45      0.29      0.35       206\n",
      "          df       0.00      0.00      0.00        24\n",
      "         mel       0.41      0.09      0.15       231\n",
      "          nv       0.74      0.95      0.83      1362\n",
      "        vasc       0.36      0.15      0.22        26\n",
      "\n",
      "    accuracy                           0.70      2015\n",
      "   macro avg       0.39      0.26      0.28      2015\n",
      "weighted avg       0.63      0.70      0.64      2015\n",
      "\n",
      "----------------------------------------------------------------------------------------------------\n",
      "Results for SVM model:\n",
      "----------------------------------------------------------------------------------------------------\n"
     ]
    },
    {
     "name": "stderr",
     "output_type": "stream",
     "text": [
      "C:\\Users\\suydu\\Anaconda3\\lib\\site-packages\\sklearn\\metrics\\classification.py:1437: UndefinedMetricWarning: Precision and F-score are ill-defined and being set to 0.0 in labels with no predicted samples.\n",
      "  'precision', 'predicted', average, warn_for)\n",
      "C:\\Users\\suydu\\Anaconda3\\lib\\site-packages\\sklearn\\metrics\\classification.py:1437: UndefinedMetricWarning: Precision and F-score are ill-defined and being set to 0.0 in labels with no predicted samples.\n",
      "  'precision', 'predicted', average, warn_for)\n",
      "C:\\Users\\suydu\\Anaconda3\\lib\\site-packages\\sklearn\\metrics\\classification.py:1437: UndefinedMetricWarning: Precision and F-score are ill-defined and being set to 0.0 in labels with no predicted samples.\n",
      "  'precision', 'predicted', average, warn_for)\n",
      "C:\\Users\\suydu\\Anaconda3\\lib\\site-packages\\sklearn\\svm\\base.py:193: FutureWarning: The default value of gamma will change from 'auto' to 'scale' in version 0.22 to account better for unscaled features. Set gamma explicitly to 'auto' or 'scale' to avoid this warning.\n",
      "  \"avoid this warning.\", FutureWarning)\n"
     ]
    },
    {
     "name": "stdout",
     "output_type": "stream",
     "text": [
      "\n",
      "Overall Accuracy: 0.6759305210918114\n",
      "\n",
      "Classification Report:\n",
      "\n",
      "              precision    recall  f1-score   support\n",
      "\n",
      "       akiec       0.00      0.00      0.00        62\n",
      "         bcc       0.00      0.00      0.00       104\n",
      "         bkl       0.00      0.00      0.00       206\n",
      "          df       0.00      0.00      0.00        24\n",
      "         mel       0.00      0.00      0.00       231\n",
      "          nv       0.68      1.00      0.81      1362\n",
      "        vasc       0.00      0.00      0.00        26\n",
      "\n",
      "    accuracy                           0.68      2015\n",
      "   macro avg       0.10      0.14      0.12      2015\n",
      "weighted avg       0.46      0.68      0.55      2015\n",
      "\n"
     ]
    },
    {
     "name": "stderr",
     "output_type": "stream",
     "text": [
      "C:\\Users\\suydu\\Anaconda3\\lib\\site-packages\\sklearn\\metrics\\classification.py:1437: UndefinedMetricWarning: Precision and F-score are ill-defined and being set to 0.0 in labels with no predicted samples.\n",
      "  'precision', 'predicted', average, warn_for)\n",
      "C:\\Users\\suydu\\Anaconda3\\lib\\site-packages\\sklearn\\metrics\\classification.py:1437: UndefinedMetricWarning: Precision and F-score are ill-defined and being set to 0.0 in labels with no predicted samples.\n",
      "  'precision', 'predicted', average, warn_for)\n",
      "C:\\Users\\suydu\\Anaconda3\\lib\\site-packages\\sklearn\\metrics\\classification.py:1437: UndefinedMetricWarning: Precision and F-score are ill-defined and being set to 0.0 in labels with no predicted samples.\n",
      "  'precision', 'predicted', average, warn_for)\n"
     ]
    },
    {
     "name": "stdout",
     "output_type": "stream",
     "text": [
      "Accuracy when data is reduced to 500 principal components:\n",
      "Results for knn model:\n",
      "----------------------------------------------------------------------------------------------------\n",
      "\n",
      "Overall Accuracy: 0.6704714640198511\n",
      "\n",
      "Classification Report:\n",
      "\n",
      "              precision    recall  f1-score   support\n",
      "\n",
      "       akiec       0.33      0.18      0.23        62\n",
      "         bcc       0.32      0.28      0.30       104\n",
      "         bkl       0.32      0.33      0.33       206\n",
      "          df       0.06      0.04      0.05        24\n",
      "         mel       0.37      0.19      0.26       231\n",
      "          nv       0.79      0.88      0.83      1362\n",
      "        vasc       0.14      0.19      0.16        26\n",
      "\n",
      "    accuracy                           0.67      2015\n",
      "   macro avg       0.33      0.30      0.31      2015\n",
      "weighted avg       0.64      0.67      0.65      2015\n",
      "\n",
      "----------------------------------------------------------------------------------------------------\n",
      "Results for BNB model:\n",
      "----------------------------------------------------------------------------------------------------\n",
      "\n",
      "Overall Accuracy: 0.5915632754342431\n",
      "\n",
      "Classification Report:\n",
      "\n",
      "              precision    recall  f1-score   support\n",
      "\n",
      "       akiec       0.13      0.29      0.18        62\n",
      "         bcc       0.23      0.09      0.13       104\n",
      "         bkl       0.19      0.12      0.14       206\n",
      "          df       0.00      0.00      0.00        24\n",
      "         mel       0.23      0.39      0.29       231\n",
      "          nv       0.80      0.77      0.78      1362\n",
      "        vasc       0.60      0.12      0.19        26\n",
      "\n",
      "    accuracy                           0.59      2015\n",
      "   macro avg       0.31      0.25      0.25      2015\n",
      "weighted avg       0.61      0.59      0.59      2015\n",
      "\n",
      "----------------------------------------------------------------------------------------------------\n",
      "Results for MNB model:\n",
      "----------------------------------------------------------------------------------------------------\n",
      "\n",
      "Overall Accuracy: 0.6759305210918114\n",
      "\n",
      "Classification Report:\n",
      "\n",
      "              precision    recall  f1-score   support\n",
      "\n",
      "       akiec       0.00      0.00      0.00        62\n",
      "         bcc       0.00      0.00      0.00       104\n",
      "         bkl       0.00      0.00      0.00       206\n",
      "          df       0.00      0.00      0.00        24\n",
      "         mel       0.00      0.00      0.00       231\n",
      "          nv       0.68      1.00      0.81      1362\n",
      "        vasc       0.00      0.00      0.00        26\n",
      "\n",
      "    accuracy                           0.68      2015\n",
      "   macro avg       0.10      0.14      0.12      2015\n",
      "weighted avg       0.46      0.68      0.55      2015\n",
      "\n",
      "----------------------------------------------------------------------------------------------------\n",
      "Results for Gaussian NB model:\n",
      "----------------------------------------------------------------------------------------------------\n"
     ]
    },
    {
     "name": "stderr",
     "output_type": "stream",
     "text": [
      "C:\\Users\\suydu\\Anaconda3\\lib\\site-packages\\sklearn\\metrics\\classification.py:1437: UndefinedMetricWarning: Precision and F-score are ill-defined and being set to 0.0 in labels with no predicted samples.\n",
      "  'precision', 'predicted', average, warn_for)\n",
      "C:\\Users\\suydu\\Anaconda3\\lib\\site-packages\\sklearn\\metrics\\classification.py:1437: UndefinedMetricWarning: Precision and F-score are ill-defined and being set to 0.0 in labels with no predicted samples.\n",
      "  'precision', 'predicted', average, warn_for)\n",
      "C:\\Users\\suydu\\Anaconda3\\lib\\site-packages\\sklearn\\metrics\\classification.py:1437: UndefinedMetricWarning: Precision and F-score are ill-defined and being set to 0.0 in labels with no predicted samples.\n",
      "  'precision', 'predicted', average, warn_for)\n"
     ]
    },
    {
     "name": "stdout",
     "output_type": "stream",
     "text": [
      "\n",
      "Overall Accuracy: 0.6183622828784119\n",
      "\n",
      "Classification Report:\n",
      "\n",
      "              precision    recall  f1-score   support\n",
      "\n",
      "       akiec       0.11      0.24      0.15        62\n",
      "         bcc       0.36      0.09      0.14       104\n",
      "         bkl       0.16      0.11      0.13       206\n",
      "          df       0.08      0.04      0.06        24\n",
      "         mel       0.36      0.38      0.37       231\n",
      "          nv       0.77      0.81      0.79      1362\n",
      "        vasc       0.50      0.12      0.19        26\n",
      "\n",
      "    accuracy                           0.62      2015\n",
      "   macro avg       0.33      0.26      0.26      2015\n",
      "weighted avg       0.60      0.62      0.60      2015\n",
      "\n",
      "----------------------------------------------------------------------------------------------------\n",
      "Results for Logistic Regression model:\n",
      "----------------------------------------------------------------------------------------------------\n"
     ]
    },
    {
     "name": "stderr",
     "output_type": "stream",
     "text": [
      "C:\\Users\\suydu\\Anaconda3\\lib\\site-packages\\sklearn\\linear_model\\logistic.py:432: FutureWarning: Default solver will be changed to 'lbfgs' in 0.22. Specify a solver to silence this warning.\n",
      "  FutureWarning)\n",
      "C:\\Users\\suydu\\Anaconda3\\lib\\site-packages\\sklearn\\linear_model\\logistic.py:469: FutureWarning: Default multi_class will be changed to 'auto' in 0.22. Specify the multi_class option to silence this warning.\n",
      "  \"this warning.\", FutureWarning)\n"
     ]
    },
    {
     "name": "stdout",
     "output_type": "stream",
     "text": [
      "\n",
      "Overall Accuracy: 0.678908188585608\n",
      "\n",
      "Classification Report:\n",
      "\n",
      "              precision    recall  f1-score   support\n",
      "\n",
      "       akiec       0.16      0.13      0.14        62\n",
      "         bcc       0.32      0.26      0.29       104\n",
      "         bkl       0.34      0.22      0.27       206\n",
      "          df       0.07      0.04      0.05        24\n",
      "         mel       0.34      0.16      0.22       231\n",
      "          nv       0.77      0.91      0.84      1362\n",
      "        vasc       0.53      0.31      0.39        26\n",
      "\n",
      "    accuracy                           0.68      2015\n",
      "   macro avg       0.36      0.29      0.31      2015\n",
      "weighted avg       0.62      0.68      0.64      2015\n",
      "\n",
      "----------------------------------------------------------------------------------------------------\n",
      "Results for SVM model:\n",
      "----------------------------------------------------------------------------------------------------\n"
     ]
    },
    {
     "name": "stderr",
     "output_type": "stream",
     "text": [
      "C:\\Users\\suydu\\Anaconda3\\lib\\site-packages\\sklearn\\svm\\base.py:193: FutureWarning: The default value of gamma will change from 'auto' to 'scale' in version 0.22 to account better for unscaled features. Set gamma explicitly to 'auto' or 'scale' to avoid this warning.\n",
      "  \"avoid this warning.\", FutureWarning)\n"
     ]
    },
    {
     "name": "stdout",
     "output_type": "stream",
     "text": [
      "\n",
      "Overall Accuracy: 0.6972704714640199\n",
      "\n",
      "Classification Report:\n",
      "\n",
      "              precision    recall  f1-score   support\n",
      "\n",
      "       akiec       0.40      0.06      0.11        62\n",
      "         bcc       0.39      0.20      0.27       104\n",
      "         bkl       0.41      0.24      0.30       206\n",
      "          df       0.00      0.00      0.00        24\n",
      "         mel       0.40      0.03      0.06       231\n",
      "          nv       0.73      0.97      0.83      1362\n",
      "        vasc       0.00      0.00      0.00        26\n",
      "\n",
      "    accuracy                           0.70      2015\n",
      "   macro avg       0.33      0.22      0.23      2015\n",
      "weighted avg       0.61      0.70      0.62      2015\n",
      "\n"
     ]
    },
    {
     "name": "stderr",
     "output_type": "stream",
     "text": [
      "C:\\Users\\suydu\\Anaconda3\\lib\\site-packages\\sklearn\\metrics\\classification.py:1437: UndefinedMetricWarning: Precision and F-score are ill-defined and being set to 0.0 in labels with no predicted samples.\n",
      "  'precision', 'predicted', average, warn_for)\n",
      "C:\\Users\\suydu\\Anaconda3\\lib\\site-packages\\sklearn\\metrics\\classification.py:1437: UndefinedMetricWarning: Precision and F-score are ill-defined and being set to 0.0 in labels with no predicted samples.\n",
      "  'precision', 'predicted', average, warn_for)\n",
      "C:\\Users\\suydu\\Anaconda3\\lib\\site-packages\\sklearn\\metrics\\classification.py:1437: UndefinedMetricWarning: Precision and F-score are ill-defined and being set to 0.0 in labels with no predicted samples.\n",
      "  'precision', 'predicted', average, warn_for)\n"
     ]
    }
   ],
   "source": [
    "# Code for re-running models with best PCA values\n",
    "\n",
    "# Define PCA values for 90% & 99% explained variance\n",
    "pca_values = [50, 500] \n",
    "\n",
    "for n in pca_values:\n",
    "    \n",
    "    #Scaling\n",
    "    scaler = StandardScaler()\n",
    "    scaled_train = scaler.fit_transform(train_data)\n",
    "    scaled_test = scaler.transform(test_data)\n",
    "\n",
    "    print(\"Accuracy when data is reduced to\", n, \"principal components:\")   \n",
    "    \n",
    "    # Project scaled data for n pca components\n",
    "    pca = PCA(n_components=n)\n",
    "    X_train_proj = pca.fit_transform(scaled_train)\n",
    "    X_test_proj = pca.transform(scaled_test)\n",
    "    models(X_train_proj,train_labels,X_test_proj,test_labels)\n",
    "    "
   ]
  },
  {
   "cell_type": "markdown",
   "metadata": {},
   "source": [
    "#### 6-2 Balancing classes /data"
   ]
  },
  {
   "cell_type": "code",
   "execution_count": 21,
   "metadata": {
    "scrolled": true
   },
   "outputs": [
    {
     "name": "stdout",
     "output_type": "stream",
     "text": [
      "Results for knn model:\n",
      "----------------------------------------------------------------------------------------------------\n",
      "\n",
      "Overall Accuracy: 0.6084367245657568\n",
      "\n",
      "Classification Report:\n",
      "\n",
      "              precision    recall  f1-score   support\n",
      "\n",
      "       akiec       0.28      0.39      0.33        62\n",
      "         bcc       0.30      0.38      0.33       104\n",
      "         bkl       0.31      0.44      0.37       206\n",
      "          df       0.02      0.04      0.03        24\n",
      "         mel       0.31      0.36      0.33       231\n",
      "          nv       0.89      0.72      0.79      1362\n",
      "        vasc       0.10      0.31      0.15        26\n",
      "\n",
      "    accuracy                           0.61      2015\n",
      "   macro avg       0.32      0.38      0.33      2015\n",
      "weighted avg       0.69      0.61      0.64      2015\n",
      "\n",
      "----------------------------------------------------------------------------------------------------\n",
      "Results for BNB model:\n",
      "----------------------------------------------------------------------------------------------------\n",
      "\n",
      "Overall Accuracy: 0.4645161290322581\n",
      "\n",
      "Classification Report:\n",
      "\n",
      "              precision    recall  f1-score   support\n",
      "\n",
      "       akiec       0.12      0.32      0.18        62\n",
      "         bcc       0.26      0.29      0.28       104\n",
      "         bkl       0.25      0.31      0.28       206\n",
      "          df       0.04      0.17      0.07        24\n",
      "         mel       0.25      0.54      0.34       231\n",
      "          nv       0.89      0.50      0.64      1362\n",
      "        vasc       0.12      0.65      0.20        26\n",
      "\n",
      "    accuracy                           0.46      2015\n",
      "   macro avg       0.28      0.40      0.28      2015\n",
      "weighted avg       0.68      0.46      0.52      2015\n",
      "\n",
      "----------------------------------------------------------------------------------------------------\n",
      "Results for MNB model:\n",
      "----------------------------------------------------------------------------------------------------\n",
      "\n",
      "Overall Accuracy: 0.0337468982630273\n",
      "\n",
      "Classification Report:\n",
      "\n",
      "              precision    recall  f1-score   support\n",
      "\n",
      "       akiec       0.03      1.00      0.06        62\n",
      "         bcc       0.00      0.00      0.00       104\n",
      "         bkl       0.22      0.02      0.04       206\n",
      "          df       0.00      0.00      0.00        24\n",
      "         mel       0.00      0.00      0.00       231\n",
      "          nv       0.33      0.00      0.00      1362\n",
      "        vasc       0.00      0.00      0.00        26\n",
      "\n",
      "    accuracy                           0.03      2015\n",
      "   macro avg       0.08      0.15      0.02      2015\n",
      "weighted avg       0.25      0.03      0.01      2015\n",
      "\n",
      "----------------------------------------------------------------------------------------------------\n",
      "Results for Gaussian NB model:\n",
      "----------------------------------------------------------------------------------------------------\n"
     ]
    },
    {
     "name": "stderr",
     "output_type": "stream",
     "text": [
      "C:\\Users\\suydu\\Anaconda3\\lib\\site-packages\\sklearn\\metrics\\classification.py:1437: UndefinedMetricWarning: Precision and F-score are ill-defined and being set to 0.0 in labels with no predicted samples.\n",
      "  'precision', 'predicted', average, warn_for)\n",
      "C:\\Users\\suydu\\Anaconda3\\lib\\site-packages\\sklearn\\metrics\\classification.py:1437: UndefinedMetricWarning: Precision and F-score are ill-defined and being set to 0.0 in labels with no predicted samples.\n",
      "  'precision', 'predicted', average, warn_for)\n",
      "C:\\Users\\suydu\\Anaconda3\\lib\\site-packages\\sklearn\\metrics\\classification.py:1437: UndefinedMetricWarning: Precision and F-score are ill-defined and being set to 0.0 in labels with no predicted samples.\n",
      "  'precision', 'predicted', average, warn_for)\n"
     ]
    },
    {
     "name": "stdout",
     "output_type": "stream",
     "text": [
      "\n",
      "Overall Accuracy: 0.38213399503722084\n",
      "\n",
      "Classification Report:\n",
      "\n",
      "              precision    recall  f1-score   support\n",
      "\n",
      "       akiec       0.16      0.26      0.20        62\n",
      "         bcc       0.17      0.30      0.22       104\n",
      "         bkl       0.19      0.18      0.19       206\n",
      "          df       0.02      0.25      0.04        24\n",
      "         mel       0.27      0.63      0.37       231\n",
      "          nv       0.91      0.39      0.54      1362\n",
      "        vasc       0.05      0.35      0.09        26\n",
      "\n",
      "    accuracy                           0.38      2015\n",
      "   macro avg       0.25      0.34      0.24      2015\n",
      "weighted avg       0.68      0.38      0.45      2015\n",
      "\n",
      "----------------------------------------------------------------------------------------------------\n",
      "Results for Logistic Regression model:\n",
      "----------------------------------------------------------------------------------------------------\n"
     ]
    },
    {
     "name": "stderr",
     "output_type": "stream",
     "text": [
      "C:\\Users\\suydu\\Anaconda3\\lib\\site-packages\\sklearn\\linear_model\\logistic.py:432: FutureWarning: Default solver will be changed to 'lbfgs' in 0.22. Specify a solver to silence this warning.\n",
      "  FutureWarning)\n",
      "C:\\Users\\suydu\\Anaconda3\\lib\\site-packages\\sklearn\\linear_model\\logistic.py:469: FutureWarning: Default multi_class will be changed to 'auto' in 0.22. Specify the multi_class option to silence this warning.\n",
      "  \"this warning.\", FutureWarning)\n"
     ]
    },
    {
     "name": "stdout",
     "output_type": "stream",
     "text": [
      "\n",
      "Overall Accuracy: 0.5047146401985112\n",
      "\n",
      "Classification Report:\n",
      "\n",
      "              precision    recall  f1-score   support\n",
      "\n",
      "       akiec       0.13      0.34      0.19        62\n",
      "         bcc       0.22      0.38      0.28       104\n",
      "         bkl       0.35      0.38      0.36       206\n",
      "          df       0.11      0.46      0.17        24\n",
      "         mel       0.27      0.49      0.35       231\n",
      "          nv       0.93      0.54      0.68      1362\n",
      "        vasc       0.13      0.69      0.22        26\n",
      "\n",
      "    accuracy                           0.50      2015\n",
      "   macro avg       0.31      0.47      0.32      2015\n",
      "weighted avg       0.71      0.50      0.56      2015\n",
      "\n",
      "----------------------------------------------------------------------------------------------------\n",
      "Results for SVM model:\n",
      "----------------------------------------------------------------------------------------------------\n"
     ]
    },
    {
     "name": "stderr",
     "output_type": "stream",
     "text": [
      "C:\\Users\\suydu\\Anaconda3\\lib\\site-packages\\sklearn\\svm\\base.py:193: FutureWarning: The default value of gamma will change from 'auto' to 'scale' in version 0.22 to account better for unscaled features. Set gamma explicitly to 'auto' or 'scale' to avoid this warning.\n",
      "  \"avoid this warning.\", FutureWarning)\n"
     ]
    },
    {
     "name": "stdout",
     "output_type": "stream",
     "text": [
      "\n",
      "Overall Accuracy: 0.6784119106699752\n",
      "\n",
      "Classification Report:\n",
      "\n",
      "              precision    recall  f1-score   support\n",
      "\n",
      "       akiec       0.00      0.00      0.00        62\n",
      "         bcc       0.50      0.01      0.02       104\n",
      "         bkl       0.83      0.02      0.05       206\n",
      "          df       0.00      0.00      0.00        24\n",
      "         mel       0.00      0.00      0.00       231\n",
      "          nv       0.68      1.00      0.81      1362\n",
      "        vasc       0.00      0.00      0.00        26\n",
      "\n",
      "    accuracy                           0.68      2015\n",
      "   macro avg       0.29      0.15      0.12      2015\n",
      "weighted avg       0.57      0.68      0.55      2015\n",
      "\n"
     ]
    },
    {
     "name": "stderr",
     "output_type": "stream",
     "text": [
      "C:\\Users\\suydu\\Anaconda3\\lib\\site-packages\\sklearn\\metrics\\classification.py:1437: UndefinedMetricWarning: Precision and F-score are ill-defined and being set to 0.0 in labels with no predicted samples.\n",
      "  'precision', 'predicted', average, warn_for)\n",
      "C:\\Users\\suydu\\Anaconda3\\lib\\site-packages\\sklearn\\metrics\\classification.py:1437: UndefinedMetricWarning: Precision and F-score are ill-defined and being set to 0.0 in labels with no predicted samples.\n",
      "  'precision', 'predicted', average, warn_for)\n",
      "C:\\Users\\suydu\\Anaconda3\\lib\\site-packages\\sklearn\\metrics\\classification.py:1437: UndefinedMetricWarning: Precision and F-score are ill-defined and being set to 0.0 in labels with no predicted samples.\n",
      "  'precision', 'predicted', average, warn_for)\n"
     ]
    }
   ],
   "source": [
    "# Code for re-running models with balanced data (oversampled)\n",
    "\n",
    "start_time=time.time()\n",
    "\n",
    "# Step1: Scale data to reflect zero mean and unit variance\n",
    "scaler = StandardScaler()\n",
    "scaled_train = scaler.fit_transform(train_data)\n",
    "scaled_test = scaler.transform(test_data)\n",
    "\n",
    "# Step 2: Reduce data to primary components (pca=50)\n",
    "pca = PCA(n_components=50)\n",
    "X_train_proj = pca.fit_transform(scaled_train)\n",
    "X_test_proj = pca.transform(scaled_test)\n",
    "\n",
    "# Step3: Balance minority classes by oversampling with SMOTE\n",
    "sm = SMOTE(sampling_strategy='minority', random_state=7)\n",
    "for i in range(0, 6):\n",
    "    otrain_data, otrain_labels = sm.fit_sample(X_train_proj, train_labels)\n",
    "    X_train_proj, train_labels = otrain_data, otrain_labels\n",
    "    \n",
    "# Step 4: Run models with balanced data\n",
    "models(otrain_data,otrain_labels,X_test_proj,test_labels)\n"
   ]
  },
  {
   "cell_type": "code",
   "execution_count": 22,
   "metadata": {
    "scrolled": true
   },
   "outputs": [
    {
     "name": "stdout",
     "output_type": "stream",
     "text": [
      "Data Shape : (10015, 2352)\n",
      "Label Shape : (10015,)\n",
      "Results for knn model:\n",
      "----------------------------------------------------------------------------------------------------\n",
      "\n",
      "Overall Accuracy: 0.2729528535980149\n",
      "\n",
      "Classification Report:\n",
      "\n",
      "              precision    recall  f1-score   support\n",
      "\n",
      "       akiec       0.12      0.22      0.15        77\n",
      "         bcc       0.18      0.24      0.21        99\n",
      "         bkl       0.20      0.20      0.20       253\n",
      "          df       0.01      0.17      0.02        24\n",
      "         mel       0.25      0.32      0.28       240\n",
      "          nv       0.84      0.28      0.43      1298\n",
      "        vasc       0.02      0.42      0.04        24\n",
      "\n",
      "    accuracy                           0.27      2015\n",
      "   macro avg       0.23      0.26      0.19      2015\n",
      "weighted avg       0.61      0.27      0.35      2015\n",
      "\n",
      "----------------------------------------------------------------------------------------------------\n",
      "Results for BNB model:\n",
      "----------------------------------------------------------------------------------------------------\n",
      "\n",
      "Overall Accuracy: 0.24367245657568237\n",
      "\n",
      "Classification Report:\n",
      "\n",
      "              precision    recall  f1-score   support\n",
      "\n",
      "       akiec       0.11      0.38      0.17        77\n",
      "         bcc       0.41      0.29      0.34        99\n",
      "         bkl       0.19      0.11      0.14       253\n",
      "          df       0.01      0.17      0.02        24\n",
      "         mel       0.20      0.38      0.26       240\n",
      "          nv       0.81      0.23      0.36      1298\n",
      "        vasc       0.03      0.42      0.05        24\n",
      "\n",
      "    accuracy                           0.24      2015\n",
      "   macro avg       0.25      0.28      0.19      2015\n",
      "weighted avg       0.60      0.24      0.31      2015\n",
      "\n",
      "----------------------------------------------------------------------------------------------------\n",
      "Results for MNB model:\n",
      "----------------------------------------------------------------------------------------------------\n",
      "\n",
      "Overall Accuracy: 0.03821339950372209\n",
      "\n",
      "Classification Report:\n",
      "\n",
      "              precision    recall  f1-score   support\n",
      "\n",
      "       akiec       0.04      1.00      0.07        77\n",
      "         bcc       0.00      0.00      0.00        99\n",
      "         bkl       0.00      0.00      0.00       253\n",
      "          df       0.00      0.00      0.00        24\n",
      "         mel       0.00      0.00      0.00       240\n",
      "          nv       0.00      0.00      0.00      1298\n",
      "        vasc       0.00      0.00      0.00        24\n",
      "\n",
      "    accuracy                           0.04      2015\n",
      "   macro avg       0.01      0.14      0.01      2015\n",
      "weighted avg       0.00      0.04      0.00      2015\n",
      "\n",
      "----------------------------------------------------------------------------------------------------\n",
      "Results for Gaussian NB model:\n",
      "----------------------------------------------------------------------------------------------------\n"
     ]
    },
    {
     "name": "stderr",
     "output_type": "stream",
     "text": [
      "C:\\Users\\suydu\\Anaconda3\\lib\\site-packages\\sklearn\\metrics\\classification.py:1437: UndefinedMetricWarning: Precision and F-score are ill-defined and being set to 0.0 in labels with no predicted samples.\n",
      "  'precision', 'predicted', average, warn_for)\n",
      "C:\\Users\\suydu\\Anaconda3\\lib\\site-packages\\sklearn\\metrics\\classification.py:1437: UndefinedMetricWarning: Precision and F-score are ill-defined and being set to 0.0 in labels with no predicted samples.\n",
      "  'precision', 'predicted', average, warn_for)\n",
      "C:\\Users\\suydu\\Anaconda3\\lib\\site-packages\\sklearn\\metrics\\classification.py:1437: UndefinedMetricWarning: Precision and F-score are ill-defined and being set to 0.0 in labels with no predicted samples.\n",
      "  'precision', 'predicted', average, warn_for)\n",
      "C:\\Users\\suydu\\Anaconda3\\lib\\site-packages\\sklearn\\linear_model\\logistic.py:432: FutureWarning: Default solver will be changed to 'lbfgs' in 0.22. Specify a solver to silence this warning.\n",
      "  FutureWarning)\n",
      "C:\\Users\\suydu\\Anaconda3\\lib\\site-packages\\sklearn\\linear_model\\logistic.py:469: FutureWarning: Default multi_class will be changed to 'auto' in 0.22. Specify the multi_class option to silence this warning.\n",
      "  \"this warning.\", FutureWarning)\n"
     ]
    },
    {
     "name": "stdout",
     "output_type": "stream",
     "text": [
      "\n",
      "Overall Accuracy: 0.19702233250620346\n",
      "\n",
      "Classification Report:\n",
      "\n",
      "              precision    recall  f1-score   support\n",
      "\n",
      "       akiec       0.16      0.32      0.22        77\n",
      "         bcc       0.45      0.23      0.31        99\n",
      "         bkl       0.55      0.10      0.17       253\n",
      "          df       0.01      0.38      0.02        24\n",
      "         mel       0.21      0.23      0.22       240\n",
      "          nv       0.85      0.19      0.31      1298\n",
      "        vasc       0.08      0.54      0.13        24\n",
      "\n",
      "    accuracy                           0.20      2015\n",
      "   macro avg       0.33      0.28      0.20      2015\n",
      "weighted avg       0.67      0.20      0.27      2015\n",
      "\n",
      "----------------------------------------------------------------------------------------------------\n",
      "Results for Logistic Regression model:\n",
      "----------------------------------------------------------------------------------------------------\n",
      "\n",
      "Overall Accuracy: 0.254590570719603\n",
      "\n",
      "Classification Report:\n",
      "\n",
      "              precision    recall  f1-score   support\n",
      "\n",
      "       akiec       0.15      0.25      0.18        77\n",
      "         bcc       0.30      0.31      0.30        99\n",
      "         bkl       0.24      0.22      0.23       253\n",
      "          df       0.03      0.50      0.05        24\n",
      "         mel       0.22      0.45      0.29       240\n",
      "          nv       0.87      0.21      0.34      1298\n",
      "        vasc       0.05      0.71      0.10        24\n",
      "\n",
      "    accuracy                           0.25      2015\n",
      "   macro avg       0.26      0.38      0.21      2015\n",
      "weighted avg       0.64      0.25      0.30      2015\n",
      "\n",
      "----------------------------------------------------------------------------------------------------\n",
      "Results for SVM model:\n",
      "----------------------------------------------------------------------------------------------------\n"
     ]
    },
    {
     "name": "stderr",
     "output_type": "stream",
     "text": [
      "C:\\Users\\suydu\\Anaconda3\\lib\\site-packages\\sklearn\\svm\\base.py:193: FutureWarning: The default value of gamma will change from 'auto' to 'scale' in version 0.22 to account better for unscaled features. Set gamma explicitly to 'auto' or 'scale' to avoid this warning.\n",
      "  \"avoid this warning.\", FutureWarning)\n"
     ]
    },
    {
     "name": "stdout",
     "output_type": "stream",
     "text": [
      "\n",
      "Overall Accuracy: 0.04466501240694789\n",
      "\n",
      "Classification Report:\n",
      "\n",
      "              precision    recall  f1-score   support\n",
      "\n",
      "       akiec       0.31      0.06      0.11        77\n",
      "         bcc       0.35      0.06      0.10        99\n",
      "         bkl       0.44      0.04      0.08       253\n",
      "          df       0.11      0.04      0.06        24\n",
      "         mel       0.24      0.12      0.16       240\n",
      "          nv       0.68      0.01      0.03      1298\n",
      "        vasc       0.01      0.88      0.02        24\n",
      "\n",
      "    accuracy                           0.04      2015\n",
      "   macro avg       0.31      0.17      0.08      2015\n",
      "weighted avg       0.55      0.04      0.06      2015\n",
      "\n"
     ]
    }
   ],
   "source": [
    "# Code for re-running models with balanced data (undersampled)\n",
    "\n",
    "# Run this block if running soon after the experiment with SMOTE\n",
    "# to reset values of traing labels correctly\n",
    "# START\n",
    "\n",
    "# Set the randomizer seed so results are the same each time.\n",
    "np.random.seed(123)\n",
    "shuffle = np.random.permutation(np.arange(X.shape[0]))\n",
    "X, Y = X[shuffle], Y[shuffle]\n",
    "\n",
    "print(\"Data Shape :\", X.shape)\n",
    "print(\"Label Shape :\", Y.shape)\n",
    "\n",
    "# Set some variables to hold test, dev, and training data.\n",
    "test_data, test_labels = X[8000:], Y[8000:]\n",
    "dev_data, dev_labels = X[7000:8000], Y[7000:8000]\n",
    "train_data, train_labels = X[:7000], Y[:7000]\n",
    "mini_train_data, mini_train_labels = X[:1000], Y[:1000]\n",
    "\n",
    "# END\n",
    "\n",
    "\n",
    "\n",
    "#-----Actual code for this experiment begins here-----\n",
    "\n",
    "# Code for re-running models with balanced data (undersampled)\n",
    "\n",
    "start_time=time.time()\n",
    "\n",
    "# Step1: Scale data to reflect zero mean and unit variance\n",
    "scaler = StandardScaler()\n",
    "scaled_train = scaler.fit_transform(train_data)\n",
    "scaled_test = scaler.transform(test_data)\n",
    "\n",
    "# Step 2: Reduce data to primary components (pca=50)\n",
    "pca = PCA(n_components=50)\n",
    "X_train_proj = pca.fit_transform(scaled_train)\n",
    "X_test_proj = pca.transform(scaled_test)\n",
    "\n",
    "# Step3: Balance minority classes by undersampling with NearMiss\n",
    "nm = NearMiss()\n",
    "otrain_data, otrain_labels = nm.fit_sample(X_train_proj, train_labels)\n",
    "    \n",
    "# Step 3: Run models with balanced data\n",
    "models(otrain_data,otrain_labels,X_test_proj,test_labels)"
   ]
  },
  {
   "cell_type": "markdown",
   "metadata": {},
   "source": [
    "### 6-3 Flipping, Random noise and Blurring"
   ]
  },
  {
   "cell_type": "code",
   "execution_count": 12,
   "metadata": {
    "scrolled": true
   },
   "outputs": [
    {
     "name": "stdout",
     "output_type": "stream",
     "text": [
      "Results for knn model:\n",
      "----------------------------------------------------------------------------------------------------\n",
      "\n",
      "Overall Accuracy: 0.7609181141439206\n",
      "\n",
      "Classification Report:\n",
      "\n",
      "              precision    recall  f1-score   support\n",
      "\n",
      "       akiec       0.58      0.51      0.54       240\n",
      "         bcc       0.58      0.54      0.56       412\n",
      "         bkl       0.57      0.55      0.56       915\n",
      "          df       0.48      0.47      0.47       101\n",
      "         mel       0.60      0.52      0.56       901\n",
      "          nv       0.85      0.88      0.86      5369\n",
      "        vasc       0.44      0.47      0.45       122\n",
      "\n",
      "    accuracy                           0.76      8060\n",
      "   macro avg       0.58      0.56      0.57      8060\n",
      "weighted avg       0.75      0.76      0.76      8060\n",
      "\n",
      "----------------------------------------------------------------------------------------------------\n",
      "Results for BNB model:\n",
      "----------------------------------------------------------------------------------------------------\n",
      "\n",
      "Overall Accuracy: 0.6696029776674938\n",
      "\n",
      "Classification Report:\n",
      "\n"
     ]
    },
    {
     "name": "stderr",
     "output_type": "stream",
     "text": [
      "C:\\Users\\RadLaptop\\Anaconda3\\lib\\site-packages\\sklearn\\metrics\\classification.py:1437: UndefinedMetricWarning: Precision and F-score are ill-defined and being set to 0.0 in labels with no predicted samples.\n",
      "  'precision', 'predicted', average, warn_for)\n",
      "C:\\Users\\RadLaptop\\Anaconda3\\lib\\site-packages\\sklearn\\metrics\\classification.py:1437: UndefinedMetricWarning: Precision and F-score are ill-defined and being set to 0.0 in labels with no predicted samples.\n",
      "  'precision', 'predicted', average, warn_for)\n",
      "C:\\Users\\RadLaptop\\Anaconda3\\lib\\site-packages\\sklearn\\metrics\\classification.py:1437: UndefinedMetricWarning: Precision and F-score are ill-defined and being set to 0.0 in labels with no predicted samples.\n",
      "  'precision', 'predicted', average, warn_for)\n"
     ]
    },
    {
     "name": "stdout",
     "output_type": "stream",
     "text": [
      "              precision    recall  f1-score   support\n",
      "\n",
      "       akiec       0.17      0.05      0.08       240\n",
      "         bcc       0.45      0.11      0.18       412\n",
      "         bkl       0.36      0.07      0.12       915\n",
      "          df       0.50      0.01      0.02       101\n",
      "         mel       0.37      0.11      0.17       901\n",
      "          nv       0.69      0.96      0.81      5369\n",
      "        vasc       0.00      0.00      0.00       122\n",
      "\n",
      "    accuracy                           0.67      8060\n",
      "   macro avg       0.36      0.19      0.19      8060\n",
      "weighted avg       0.58      0.67      0.58      8060\n",
      "\n",
      "----------------------------------------------------------------------------------------------------\n",
      "Results for MNB model:\n",
      "----------------------------------------------------------------------------------------------------\n",
      "\n",
      "Overall Accuracy: 0.6661290322580645\n",
      "\n",
      "Classification Report:\n",
      "\n"
     ]
    },
    {
     "name": "stderr",
     "output_type": "stream",
     "text": [
      "C:\\Users\\RadLaptop\\Anaconda3\\lib\\site-packages\\sklearn\\metrics\\classification.py:1437: UndefinedMetricWarning: Precision and F-score are ill-defined and being set to 0.0 in labels with no predicted samples.\n",
      "  'precision', 'predicted', average, warn_for)\n",
      "C:\\Users\\RadLaptop\\Anaconda3\\lib\\site-packages\\sklearn\\metrics\\classification.py:1437: UndefinedMetricWarning: Precision and F-score are ill-defined and being set to 0.0 in labels with no predicted samples.\n",
      "  'precision', 'predicted', average, warn_for)\n",
      "C:\\Users\\RadLaptop\\Anaconda3\\lib\\site-packages\\sklearn\\metrics\\classification.py:1437: UndefinedMetricWarning: Precision and F-score are ill-defined and being set to 0.0 in labels with no predicted samples.\n",
      "  'precision', 'predicted', average, warn_for)\n"
     ]
    },
    {
     "name": "stdout",
     "output_type": "stream",
     "text": [
      "              precision    recall  f1-score   support\n",
      "\n",
      "       akiec       0.00      0.00      0.00       240\n",
      "         bcc       0.00      0.00      0.00       412\n",
      "         bkl       0.00      0.00      0.00       915\n",
      "          df       0.00      0.00      0.00       101\n",
      "         mel       0.00      0.00      0.00       901\n",
      "          nv       0.67      1.00      0.80      5369\n",
      "        vasc       0.00      0.00      0.00       122\n",
      "\n",
      "    accuracy                           0.67      8060\n",
      "   macro avg       0.10      0.14      0.11      8060\n",
      "weighted avg       0.44      0.67      0.53      8060\n",
      "\n",
      "----------------------------------------------------------------------------------------------------\n",
      "Results for Gaussian NB model:\n",
      "----------------------------------------------------------------------------------------------------\n",
      "\n",
      "Overall Accuracy: 0.6057071960297766\n",
      "\n",
      "Classification Report:\n",
      "\n",
      "              precision    recall  f1-score   support\n",
      "\n",
      "       akiec       0.27      0.11      0.15       240\n",
      "         bcc       0.40      0.19      0.25       412\n",
      "         bkl       0.28      0.06      0.11       915\n",
      "          df       0.08      0.25      0.13       101\n",
      "         mel       0.25      0.43      0.32       901\n",
      "          nv       0.75      0.80      0.78      5369\n",
      "        vasc       0.31      0.11      0.17       122\n",
      "\n",
      "    accuracy                           0.61      8060\n",
      "   macro avg       0.34      0.28      0.27      8060\n",
      "weighted avg       0.60      0.61      0.59      8060\n",
      "\n",
      "----------------------------------------------------------------------------------------------------\n",
      "Results for Logistic Regression model:\n",
      "----------------------------------------------------------------------------------------------------\n"
     ]
    },
    {
     "name": "stderr",
     "output_type": "stream",
     "text": [
      "C:\\Users\\RadLaptop\\Anaconda3\\lib\\site-packages\\sklearn\\linear_model\\logistic.py:432: FutureWarning: Default solver will be changed to 'lbfgs' in 0.22. Specify a solver to silence this warning.\n",
      "  FutureWarning)\n",
      "C:\\Users\\RadLaptop\\Anaconda3\\lib\\site-packages\\sklearn\\linear_model\\logistic.py:469: FutureWarning: Default multi_class will be changed to 'auto' in 0.22. Specify the multi_class option to silence this warning.\n",
      "  \"this warning.\", FutureWarning)\n"
     ]
    },
    {
     "name": "stdout",
     "output_type": "stream",
     "text": [
      "\n",
      "Overall Accuracy: 0.6795285359801488\n",
      "\n",
      "Classification Report:\n",
      "\n",
      "              precision    recall  f1-score   support\n",
      "\n",
      "       akiec       0.33      0.03      0.05       240\n",
      "         bcc       0.52      0.15      0.24       412\n",
      "         bkl       0.40      0.07      0.12       915\n",
      "          df       0.00      0.00      0.00       101\n",
      "         mel       0.52      0.07      0.13       901\n",
      "          nv       0.69      0.98      0.81      5369\n",
      "        vasc       0.00      0.00      0.00       122\n",
      "\n",
      "    accuracy                           0.68      8060\n",
      "   macro avg       0.35      0.19      0.19      8060\n",
      "weighted avg       0.60      0.68      0.58      8060\n",
      "\n",
      "----------------------------------------------------------------------------------------------------\n",
      "Results for SVM model:\n",
      "----------------------------------------------------------------------------------------------------\n"
     ]
    },
    {
     "name": "stderr",
     "output_type": "stream",
     "text": [
      "C:\\Users\\RadLaptop\\Anaconda3\\lib\\site-packages\\sklearn\\svm\\base.py:193: FutureWarning: The default value of gamma will change from 'auto' to 'scale' in version 0.22 to account better for unscaled features. Set gamma explicitly to 'auto' or 'scale' to avoid this warning.\n",
      "  \"avoid this warning.\", FutureWarning)\n"
     ]
    },
    {
     "name": "stdout",
     "output_type": "stream",
     "text": [
      "\n",
      "Overall Accuracy: 0.671712158808933\n",
      "\n",
      "Classification Report:\n",
      "\n",
      "              precision    recall  f1-score   support\n",
      "\n",
      "       akiec       0.00      0.00      0.00       240\n",
      "         bcc       1.00      0.03      0.06       412\n",
      "         bkl       0.90      0.03      0.06       915\n",
      "          df       0.00      0.00      0.00       101\n",
      "         mel       1.00      0.01      0.02       901\n",
      "          nv       0.67      1.00      0.80      5369\n",
      "        vasc       0.00      0.00      0.00       122\n",
      "\n",
      "    accuracy                           0.67      8060\n",
      "   macro avg       0.51      0.15      0.13      8060\n",
      "weighted avg       0.71      0.67      0.55      8060\n",
      "\n"
     ]
    },
    {
     "name": "stderr",
     "output_type": "stream",
     "text": [
      "C:\\Users\\RadLaptop\\Anaconda3\\lib\\site-packages\\sklearn\\metrics\\classification.py:1437: UndefinedMetricWarning: Precision and F-score are ill-defined and being set to 0.0 in labels with no predicted samples.\n",
      "  'precision', 'predicted', average, warn_for)\n",
      "C:\\Users\\RadLaptop\\Anaconda3\\lib\\site-packages\\sklearn\\metrics\\classification.py:1437: UndefinedMetricWarning: Precision and F-score are ill-defined and being set to 0.0 in labels with no predicted samples.\n",
      "  'precision', 'predicted', average, warn_for)\n",
      "C:\\Users\\RadLaptop\\Anaconda3\\lib\\site-packages\\sklearn\\metrics\\classification.py:1437: UndefinedMetricWarning: Precision and F-score are ill-defined and being set to 0.0 in labels with no predicted samples.\n",
      "  'precision', 'predicted', average, warn_for)\n"
     ]
    }
   ],
   "source": [
    "# Code to run models after flipping, adding random noise, blurring and PCA\n",
    "\n",
    "def img_aug(X_data,Y_label):\n",
    "    \"\"\" \n",
    "    This function performs image augmentation by applying flipping, \n",
    "    random noise and blurring to the given image data sets sequentially\n",
    "    \"\"\"\n",
    "    \n",
    "    # flipping images\n",
    "    flipped_images=X_data[:, ::-1]\n",
    "    images_pix_with_flipped=np.append(X_data,flipped_images,axis=0)\n",
    "    image_id_with_flipped=np.append(Y_label,Y_label,axis=0)\n",
    "\n",
    "    #random noise\n",
    "    noise_images=sk.util.random_noise(X_data)\n",
    "    images_pix_with_flipped_noise=np.append(images_pix_with_flipped,noise_images,axis=0)\n",
    "    image_id_with_flipped_noise=np.append(image_id_with_flipped,Y_label,axis=0)\n",
    "\n",
    "    #blurring\n",
    "    blurred_images=cv2.GaussianBlur(X_data, (5, 5), 0)\n",
    "    X_transformed=np.append(images_pix_with_flipped_noise,blurred_images,axis=0)\n",
    "    Y_transformed=np.append(image_id_with_flipped_noise,Y_label,axis=0)\n",
    "    return X_transformed,Y_transformed\n",
    "\n",
    "X_transformed,Y_transformed = img_aug(X,Y)\n",
    "\n",
    "def train_test_split(X_data,Y_label):\n",
    "    \n",
    "    \"\"\"\n",
    "    This function helps split the given data sets into train, dev and test data sets\n",
    "    \"\"\"\n",
    "    \n",
    "    # Set the randomizer seed so results are the same each time.\n",
    "    np.random.seed(123)\n",
    "    shuffle = np.random.permutation(np.arange(X_data.shape[0]))\n",
    "    X_data, Y_label = X_transformed[shuffle], Y_label[shuffle]\n",
    "\n",
    "    # Set some variables to hold test, dev, and training data.\n",
    "    test_data, test_labels = X_data[32000:], Y_label[32000:]\n",
    "    train_data, train_labels = X_data[:32000], Y_label[:32000]\n",
    "    dev_data,dev_labels = X_data[32000:33000],Y_label[32000:33000]\n",
    "    \n",
    "    return train_data,test_data,train_labels,test_labels\n",
    "\n",
    "train_data,test_data,train_labels,test_labels=train_test_split(X_transformed,Y_transformed)\n",
    "\n",
    "# Scale data for zero mean and unit variance\n",
    "scaler = StandardScaler()\n",
    "scaled_train = scaler.fit_transform(train_data)\n",
    "scaled_test = scaler.transform(test_data)\n",
    "\n",
    "# Project scaled data for n=50 pca components \n",
    "pca = PCA(n_components=50)\n",
    "X_train_proj = pca.fit_transform(scaled_train)\n",
    "X_test_proj = pca.transform(scaled_test)\n",
    "\n",
    "# run models\n",
    "models(X_train_proj,train_labels,X_test_proj,test_labels)"
   ]
  },
  {
   "cell_type": "code",
   "execution_count": null,
   "metadata": {
    "scrolled": true
   },
   "outputs": [
    {
     "name": "stdout",
     "output_type": "stream",
     "text": [
      "Results for knn model:\n",
      "----------------------------------------------------------------------------------------------------\n",
      "\n",
      "Overall Accuracy: 0.706575682382134\n",
      "\n",
      "Classification Report:\n",
      "\n",
      "              precision    recall  f1-score   support\n",
      "\n",
      "       akiec       0.44      0.56      0.49       261\n",
      "         bcc       0.43      0.58      0.49       388\n",
      "         bkl       0.49      0.57      0.52       889\n",
      "          df       0.28      0.65      0.39        86\n",
      "         mel       0.50      0.58      0.54       931\n",
      "          nv       0.90      0.77      0.83      5395\n",
      "        vasc       0.25      0.56      0.35       110\n",
      "\n",
      "    accuracy                           0.71      8060\n",
      "   macro avg       0.47      0.61      0.52      8060\n",
      "weighted avg       0.75      0.71      0.72      8060\n",
      "\n",
      "----------------------------------------------------------------------------------------------------\n",
      "Results for BNB model:\n",
      "----------------------------------------------------------------------------------------------------\n",
      "\n",
      "Overall Accuracy: 0.33052109181141437\n",
      "\n",
      "Classification Report:\n",
      "\n",
      "              precision    recall  f1-score   support\n",
      "\n",
      "       akiec       0.15      0.43      0.22       261\n",
      "         bcc       0.13      0.22      0.17       388\n",
      "         bkl       0.19      0.21      0.20       889\n",
      "          df       0.06      0.36      0.10        86\n",
      "         mel       0.24      0.51      0.32       931\n",
      "          nv       0.86      0.32      0.47      5395\n",
      "        vasc       0.03      0.32      0.06       110\n",
      "\n",
      "    accuracy                           0.33      8060\n",
      "   macro avg       0.24      0.34      0.22      8060\n",
      "weighted avg       0.64      0.33      0.39      8060\n",
      "\n",
      "----------------------------------------------------------------------------------------------------\n",
      "Results for MNB model:\n",
      "----------------------------------------------------------------------------------------------------\n",
      "\n",
      "Overall Accuracy: 0.033498759305210915\n",
      "\n",
      "Classification Report:\n",
      "\n",
      "              precision    recall  f1-score   support\n",
      "\n",
      "       akiec       0.03      1.00      0.06       261\n",
      "         bcc       0.00      0.00      0.00       388\n",
      "         bkl       0.04      0.00      0.00       889\n",
      "          df       0.00      0.00      0.00        86\n",
      "         mel       1.00      0.00      0.00       931\n",
      "          nv       1.00      0.00      0.00      5395\n",
      "        vasc       0.00      0.00      0.00       110\n",
      "\n",
      "    accuracy                           0.03      8060\n",
      "   macro avg       0.30      0.14      0.01      8060\n",
      "weighted avg       0.79      0.03      0.00      8060\n",
      "\n",
      "----------------------------------------------------------------------------------------------------\n",
      "Results for Gaussian NB model:\n",
      "----------------------------------------------------------------------------------------------------\n"
     ]
    },
    {
     "name": "stderr",
     "output_type": "stream",
     "text": [
      "C:\\Users\\RadLaptop\\Anaconda3\\lib\\site-packages\\sklearn\\metrics\\classification.py:1437: UndefinedMetricWarning: Precision and F-score are ill-defined and being set to 0.0 in labels with no predicted samples.\n",
      "  'precision', 'predicted', average, warn_for)\n",
      "C:\\Users\\RadLaptop\\Anaconda3\\lib\\site-packages\\sklearn\\metrics\\classification.py:1437: UndefinedMetricWarning: Precision and F-score are ill-defined and being set to 0.0 in labels with no predicted samples.\n",
      "  'precision', 'predicted', average, warn_for)\n",
      "C:\\Users\\RadLaptop\\Anaconda3\\lib\\site-packages\\sklearn\\metrics\\classification.py:1437: UndefinedMetricWarning: Precision and F-score are ill-defined and being set to 0.0 in labels with no predicted samples.\n",
      "  'precision', 'predicted', average, warn_for)\n"
     ]
    },
    {
     "name": "stdout",
     "output_type": "stream",
     "text": [
      "\n",
      "Overall Accuracy: 0.2825062034739454\n",
      "\n",
      "Classification Report:\n",
      "\n",
      "              precision    recall  f1-score   support\n",
      "\n",
      "       akiec       0.13      0.21      0.16       261\n",
      "         bcc       0.14      0.16      0.15       388\n",
      "         bkl       0.22      0.12      0.15       889\n",
      "          df       0.02      0.49      0.04        86\n",
      "         mel       0.23      0.54      0.33       931\n",
      "          nv       0.90      0.27      0.42      5395\n",
      "        vasc       0.03      0.32      0.06       110\n",
      "\n",
      "    accuracy                           0.28      8060\n",
      "   macro avg       0.24      0.30      0.19      8060\n",
      "weighted avg       0.67      0.28      0.35      8060\n",
      "\n",
      "----------------------------------------------------------------------------------------------------\n",
      "Results for Logistic Regression model:\n",
      "----------------------------------------------------------------------------------------------------\n"
     ]
    },
    {
     "name": "stderr",
     "output_type": "stream",
     "text": [
      "C:\\Users\\RadLaptop\\Anaconda3\\lib\\site-packages\\sklearn\\linear_model\\logistic.py:432: FutureWarning: Default solver will be changed to 'lbfgs' in 0.22. Specify a solver to silence this warning.\n",
      "  FutureWarning)\n",
      "C:\\Users\\RadLaptop\\Anaconda3\\lib\\site-packages\\sklearn\\linear_model\\logistic.py:469: FutureWarning: Default multi_class will be changed to 'auto' in 0.22. Specify the multi_class option to silence this warning.\n",
      "  \"this warning.\", FutureWarning)\n"
     ]
    },
    {
     "name": "stdout",
     "output_type": "stream",
     "text": [
      "\n",
      "Overall Accuracy: 0.3791563275434243\n",
      "\n",
      "Classification Report:\n",
      "\n",
      "              precision    recall  f1-score   support\n",
      "\n",
      "       akiec       0.15      0.32      0.21       261\n",
      "         bcc       0.19      0.40      0.25       388\n",
      "         bkl       0.26      0.31      0.28       889\n",
      "          df       0.06      0.34      0.10        86\n",
      "         mel       0.22      0.41      0.28       931\n",
      "          nv       0.88      0.39      0.54      5395\n",
      "        vasc       0.04      0.40      0.08       110\n",
      "\n",
      "    accuracy                           0.38      8060\n",
      "   macro avg       0.26      0.37      0.25      8060\n",
      "weighted avg       0.66      0.38      0.45      8060\n",
      "\n",
      "----------------------------------------------------------------------------------------------------\n",
      "Results for SVM model:\n",
      "----------------------------------------------------------------------------------------------------\n"
     ]
    },
    {
     "name": "stderr",
     "output_type": "stream",
     "text": [
      "C:\\Users\\RadLaptop\\Anaconda3\\lib\\site-packages\\sklearn\\svm\\base.py:193: FutureWarning: The default value of gamma will change from 'auto' to 'scale' in version 0.22 to account better for unscaled features. Set gamma explicitly to 'auto' or 'scale' to avoid this warning.\n",
      "  \"avoid this warning.\", FutureWarning)\n"
     ]
    }
   ],
   "source": [
    "# CAUTION: Running this code takes an enormously long time for the SVM model to complete. \n",
    "# therefore, please refer to the results we have saved from the previous run below.\n",
    "\n",
    "# # Code to run models after flipping, adding random noise, blurring, PCA .... and SMOTE\n",
    "\n",
    "# # flipping images\n",
    "# flipped_images=X[:, ::-1]\n",
    "# images_pix_with_flipped=np.append(X,flipped_images,axis=0)\n",
    "# image_id_with_flipped=np.append(Y,Y,axis=0)\n",
    "\n",
    "# #random noise\n",
    "# noise_images=sk.util.random_noise(X)\n",
    "# images_pix_with_flipped_noise=np.append(images_pix_with_flipped,noise_images,axis=0)\n",
    "# image_id_with_flipped_noise=np.append(image_id_with_flipped,Y,axis=0)\n",
    "\n",
    "# #blurring\n",
    "# blurred_images=cv2.GaussianBlur(X, (5, 5), 0)\n",
    "# X_transformed=np.append(images_pix_with_flipped_noise,blurred_images,axis=0)\n",
    "# Y_transformed=np.append(image_id_with_flipped_noise,Y,axis=0)\n",
    "\n",
    "# # Set the randomizer seed so results are the same each time.\n",
    "# np.random.seed(123)\n",
    "# shuffle = np.random.permutation(np.arange(X_transformed.shape[0]))\n",
    "# X_transformed, Y_transformed = X_transformed[shuffle], Y_transformed[shuffle]\n",
    "\n",
    "# # Set some variables to hold test, dev, and training data.\n",
    "# test_data, test_labels = X_transformed[32000:], Y_transformed[32000:]\n",
    "# train_data, train_labels = X_transformed[:32000], Y_transformed[:32000]\n",
    "\n",
    "# # Scale data for zero mean and unit variance\n",
    "# scaler = StandardScaler()\n",
    "# scaled_train = scaler.fit_transform(train_data)\n",
    "# scaled_test = scaler.transform(test_data)\n",
    "\n",
    "# # Project scaled data for n pca components (testing code with 2 components) \n",
    "# pca = PCA(n_components=50)\n",
    "# X_train_proj = pca.fit_transform(scaled_train)\n",
    "# X_test_proj = pca.transform(scaled_test)\n",
    "\n",
    "# # Balance minority classes by oversampling with SMOTE\n",
    "# sm = SMOTE(sampling_strategy='minority', random_state=7)\n",
    "# for i in range(0, 6):\n",
    "#     otrain_data, otrain_labels = sm.fit_sample(X_train_proj, train_labels)\n",
    "#     X_train_proj, train_labels = otrain_data, otrain_labels\n",
    "    \n",
    "# # Run models with balanced data\n",
    "# models(otrain_data,otrain_labels,X_test_proj,test_labels)\n"
   ]
  },
  {
   "cell_type": "markdown",
   "metadata": {},
   "source": [
    "### <span style=\"color:blue\">7. Hyperparameter Tuning</span>"
   ]
  },
  {
   "cell_type": "code",
   "execution_count": 13,
   "metadata": {},
   "outputs": [],
   "source": [
    "# apply preprocessing\n",
    "X_transformed,Y_transformed = img_aug(X,Y)\n",
    "\n",
    "train_data,test_data,train_labels,test_labels=train_test_split(X_transformed,Y_transformed)\n",
    "\n",
    "def hyper_tuning(model,param_grid,X_train,X_train_labels,X_test,X_test_labels):\n",
    "    \"\"\"\n",
    "    This function helps run GridSearchCV to find the best hyperparameters for a given algorithm\n",
    "    \"\"\"\n",
    "    \n",
    "    # Scale data for zero mean and unit variance\n",
    "    scaler = StandardScaler()\n",
    "    scaled_train = scaler.fit_transform(X_train)\n",
    "    scaled_test = scaler.transform(X_test)\n",
    "\n",
    "    # Project scaled data for n=50 pca components \n",
    "    pca = PCA(n_components=50)\n",
    "    X_train_proj = pca.fit_transform(scaled_train)\n",
    "    X_test_proj = pca.transform(scaled_test)\n",
    "    \n",
    "    if model==BernoulliNB():\n",
    "        X_train_proj=binarize_pixels(X_train_proj,)\n",
    "        X_test_proj = binarize_pixels(X_test_proj,)\n",
    "    elif model==MultinomialNB():\n",
    "        X_train_proj=discretize_pixels(X_train_proj,)\n",
    "        X_test_proj = discretize_pixels(X_test_proj,)\n",
    "    else:\n",
    "        X_train_proj=X_train_proj\n",
    "        X_test_proj=X_test_proj\n",
    "        \n",
    "    #use gridsearch to test all values in the param_grid\n",
    "    gscv = GridSearchCV(model, param_grid, cv=5)\n",
    "\n",
    "    #fit model to data\n",
    "    gscv.fit(X_train_proj, X_train_labels)\n",
    "\n",
    "    #check top performing n_neighbors value\n",
    "    print(\"Best value for parameter:\", gscv.best_params_)\n",
    "\n",
    "    #check mean score for the top performing value\n",
    "    print(\"Best accuracy (mean score):\", gscv.best_score_)\n",
    "    \n",
    "    #check score on test data\n",
    "    print(\"Accuracy on test data\",gscv.score(X_test_proj,X_test_labels))"
   ]
  },
  {
   "cell_type": "markdown",
   "metadata": {},
   "source": [
    "#### 7-1 Optimal 'k' for KMeans"
   ]
  },
  {
   "cell_type": "code",
   "execution_count": 36,
   "metadata": {},
   "outputs": [
    {
     "name": "stdout",
     "output_type": "stream",
     "text": [
      "Best value for parameter: {'n_neighbors': 1}\n",
      "Best accuracy (mean score): 0.7429375\n",
      "Accuracy on test data 0.7614143920595533\n"
     ]
    }
   ],
   "source": [
    "# create new a knn model\n",
    "model = KNeighborsClassifier()\n",
    "\n",
    "# create a dictionary of all values we want to test for n_neighbors\n",
    "param_grid = {\"n_neighbors\" : np.arange(1, 10)}\n",
    "\n",
    "# perform hypertuning\n",
    "hyper_tuning(model,param_grid,train_data,train_labels,test_data,test_labels)"
   ]
  },
  {
   "cell_type": "markdown",
   "metadata": {},
   "source": [
    "#### 7-2 Optimal 'p' (the power parameter for the Minkowski metric) for KMeans"
   ]
  },
  {
   "cell_type": "code",
   "execution_count": 37,
   "metadata": {},
   "outputs": [
    {
     "name": "stdout",
     "output_type": "stream",
     "text": [
      "Best value for parameter: {'p': 1}\n",
      "Best accuracy (mean score): 0.74575\n",
      "Accuracy on test data 0.7682382133995037\n"
     ]
    }
   ],
   "source": [
    "# Figure optimal 'p' (the power parameter for the Minkowski metric) using GridSearchCV \n",
    "\n",
    "# create new a knn model\n",
    "model = KNeighborsClassifier(n_neighbors=1)\n",
    "\n",
    "# create a dictionary of all values we want to test for 'p'\n",
    "param_grid = {\"p\" : np.arange(1, 6)}\n",
    "\n",
    "# perform hypertuning\n",
    "hyper_tuning(model,param_grid,train_data,train_labels,test_data,test_labels)"
   ]
  },
  {
   "cell_type": "markdown",
   "metadata": {},
   "source": [
    "#### 7-3 Optimal Laplace Smoothing Parameter, 'alpha', for Bernoulli NB"
   ]
  },
  {
   "cell_type": "code",
   "execution_count": 38,
   "metadata": {},
   "outputs": [
    {
     "name": "stdout",
     "output_type": "stream",
     "text": [
      "Best value for parameter: {'alpha': 100.0}\n",
      "Best accuracy (mean score): 0.67365625\n",
      "Accuracy on test data 0.6665012406947891\n"
     ]
    }
   ],
   "source": [
    "# Figure optimal value for 'alpha'\n",
    "# Create a BernoulliNB classifier object\n",
    "model = BernoulliNB()\n",
    "\n",
    "# create a dictionary of all values we want to test for alpha\n",
    "param_grid = {\"alpha\" : [0.0001, 0.001, 0.01, 0.1, 0.5, 1.0, 2.0, 10.0, 50.0, 100.0]}\n",
    "\n",
    "# perform hypertuning\n",
    "hyper_tuning(model,param_grid,train_data,train_labels,test_data,test_labels)"
   ]
  },
  {
   "cell_type": "markdown",
   "metadata": {},
   "source": [
    "#### 7-4 Optimal Laplace Smoothing Parameter, 'alpha', for Multinomial NB"
   ]
  },
  {
   "cell_type": "code",
   "execution_count": 19,
   "metadata": {},
   "outputs": [
    {
     "name": "stdout",
     "output_type": "stream",
     "text": [
      "Best value for parameter: {'alpha': 1e-07}\n",
      "Best accuracy (mean score): 0.67034375\n",
      "Accuracy on test data 0.6661290322580645\n"
     ]
    }
   ],
   "source": [
    "# Figure optimal value for 'alpha'\n",
    "\n",
    "# Create a MultinomialNB classifier object\n",
    "model = MultinomialNB()\n",
    "\n",
    "# create a dictionary of all values we want to test for alpha\n",
    "param_grid = {\"alpha\" : [1e-07, 0.0001, 0.001, 0.01, 0.1, 0.5, 1.0, 2.0, 10.0, 50.0, 100.0]}\n",
    "\n",
    "# Define data\n",
    "X_train, X_test = train_data, test_data\n",
    "X_train_labels, X_test_labels = train_labels, test_labels\n",
    "\n",
    "# Scale data for zero mean and unit variance\n",
    "scaler = StandardScaler()\n",
    "scaled_train = scaler.fit_transform(X_train)\n",
    "scaled_test = scaler.transform(X_test)\n",
    "\n",
    "# Project scaled data for n=50 pca components \n",
    "pca = PCA(n_components=50)\n",
    "X_train_proj = pca.fit_transform(scaled_train)\n",
    "X_test_proj = pca.transform(scaled_test)\n",
    "\n",
    "# Discretize data\n",
    "X_train_proj=discretize_pixels(X_train_proj,)\n",
    "X_test_proj = discretize_pixels(X_test_proj,)\n",
    "\n",
    "#use gridsearch to test all values in the param_grid\n",
    "gscv = GridSearchCV(model, param_grid, cv=5)\n",
    "\n",
    "#fit model to data\n",
    "gscv.fit(X_train_proj, X_train_labels)\n",
    "\n",
    "#check top performing n_neighbors value\n",
    "print(\"Best value for parameter:\", gscv.best_params_)\n",
    "\n",
    "#check mean score for the top performing value\n",
    "print(\"Best accuracy (mean score):\", gscv.best_score_)\n",
    "\n",
    "#check score on test data\n",
    "print(\"Accuracy on test data\",gscv.score(X_test_proj,X_test_labels))"
   ]
  },
  {
   "cell_type": "markdown",
   "metadata": {},
   "source": [
    "#### 7-5 Optimal 'C' for Logistic Regression"
   ]
  },
  {
   "cell_type": "code",
   "execution_count": 40,
   "metadata": {},
   "outputs": [
    {
     "name": "stdout",
     "output_type": "stream",
     "text": [
      "Best value for parameter: {'C': 10.0, 'multi_class': 'auto', 'penalty': 'l1', 'solver': 'liblinear'}\n",
      "Best accuracy (mean score): 0.68175\n",
      "Accuracy on test data 0.6764267990074442\n"
     ]
    }
   ],
   "source": [
    "# Figure optimal value of 'C' for Logistic Regression\n",
    "\n",
    "# Create a Logistic Regression classifier object\n",
    "model = LogisticRegression()\n",
    "\n",
    "# create a dictionary of all values we want to test for 'C'\n",
    "param_grid = {\"C\" : [0.0001, 0.001, 0.01, 0.1, 0.5, 1.0, 2.0, 10.0, 50.0, 100.0],\n",
    "             \"penalty\" : [\"l1\", \"l2\"],\n",
    "             \"multi_class\" : [\"auto\"],\n",
    "             \"solver\" : [\"liblinear\"]}\n",
    "\n",
    "# perform hypertuning\n",
    "hyper_tuning(model,param_grid,train_data,train_labels,test_data,test_labels)"
   ]
  },
  {
   "cell_type": "markdown",
   "metadata": {},
   "source": [
    "#### 7-6 Optimum parameters for SVM"
   ]
  },
  {
   "cell_type": "code",
   "execution_count": 26,
   "metadata": {},
   "outputs": [
    {
     "name": "stdout",
     "output_type": "stream",
     "text": [
      "Best value for parameter: {'C': 100, 'gamma': 0.0001}\n",
      "Best accuracy (mean score): 0.76903125\n",
      "Accuracy on test data 0.7669975186104219\n"
     ]
    }
   ],
   "source": [
    "# Figure optimal value of 'C' and gamma for SVM\n",
    "\n",
    "# Create an SVM classifier object\n",
    "model=SVC(kernel='rbf')\n",
    "\n",
    "# create a dictionary of all values we want to test for 'C'\n",
    "param_grid = {\"C\":[10,50,100],\n",
    "              \"gamma\":[0.0001,0.00001]}\n",
    "\n",
    "# perform hypertuning\n",
    "hyper_tuning(model,param_grid,train_data,train_labels,test_data,test_labels)"
   ]
  },
  {
   "cell_type": "markdown",
   "metadata": {},
   "source": [
    "### <span style=\"color:blue\">8. FINAL MODELS</span>"
   ]
  },
  {
   "cell_type": "code",
   "execution_count": 9,
   "metadata": {},
   "outputs": [],
   "source": [
    "# PREPROCESS DATA (flip, random noise, blurr, scale, PCA)\n",
    "\n",
    "# flipping images\n",
    "flipped_images=X[:, ::-1]\n",
    "images_pix_with_flipped=np.append(X,flipped_images,axis=0)\n",
    "image_id_with_flipped=np.append(Y,Y,axis=0)\n",
    "\n",
    "#random noise\n",
    "noise_images=sk.util.random_noise(X)\n",
    "images_pix_with_flipped_noise=np.append(images_pix_with_flipped,noise_images,axis=0)\n",
    "image_id_with_flipped_noise=np.append(image_id_with_flipped,Y,axis=0)\n",
    "\n",
    "#blurring\n",
    "blurred_images=cv2.GaussianBlur(X, (5, 5), 0)\n",
    "X_transformed=np.append(images_pix_with_flipped_noise,blurred_images,axis=0)\n",
    "Y_transformed=np.append(image_id_with_flipped_noise,Y,axis=0)\n",
    "\n",
    "# Set the randomizer seed so results are the same each time.\n",
    "np.random.seed(123)\n",
    "shuffle = np.random.permutation(np.arange(X_transformed.shape[0]))\n",
    "X_transformed, Y_transformed = X_transformed[shuffle], Y_transformed[shuffle]\n",
    "\n",
    "# Set some variables to hold test, dev, and training data.\n",
    "test_data, test_labels = X_transformed[32000:], Y_transformed[32000:]\n",
    "train_data, train_labels = X_transformed[:32000], Y_transformed[:32000]\n",
    "\n",
    "# Scale data for zero mean and unit variance\n",
    "scaler = StandardScaler()\n",
    "scaled_train = scaler.fit_transform(train_data)\n",
    "scaled_test = scaler.transform(test_data)\n",
    "\n",
    "# Project scaled data for n=50 pca components \n",
    "pca = PCA(n_components=50)\n",
    "X_train_proj = pca.fit_transform(scaled_train)\n",
    "X_test_proj = pca.transform(scaled_test)\n"
   ]
  },
  {
   "cell_type": "code",
   "execution_count": 12,
   "metadata": {
    "scrolled": true
   },
   "outputs": [
    {
     "name": "stdout",
     "output_type": "stream",
     "text": [
      "Results for knn model:\n",
      "----------------------------------------------------------------------------------------------------\n",
      "\n",
      "Overall Accuracy: 0.8750620347394541\n",
      "\n",
      "Classification Report:\n",
      "\n",
      "              precision    recall  f1-score   support\n",
      "\n",
      "       akiec       0.86      0.71      0.78       277\n",
      "         bcc       0.79      0.78      0.78       393\n",
      "         bkl       0.76      0.75      0.75       886\n",
      "          df       0.64      0.72      0.68        88\n",
      "         mel       0.84      0.68      0.75       944\n",
      "          nv       0.91      0.95      0.93      5348\n",
      "        vasc       0.71      0.61      0.66       124\n",
      "\n",
      "    accuracy                           0.88      8060\n",
      "   macro avg       0.79      0.74      0.76      8060\n",
      "weighted avg       0.87      0.88      0.87      8060\n",
      "\n",
      "----------------------------------------------------------------------------------------------------\n",
      "Results for BNB model:\n",
      "----------------------------------------------------------------------------------------------------\n",
      "\n",
      "Overall Accuracy: 0.6681141439205955\n",
      "\n",
      "Classification Report:\n",
      "\n"
     ]
    },
    {
     "name": "stderr",
     "output_type": "stream",
     "text": [
      "C:\\Users\\suydu\\Anaconda3\\lib\\site-packages\\sklearn\\metrics\\classification.py:1437: UndefinedMetricWarning: Precision and F-score are ill-defined and being set to 0.0 in labels with no predicted samples.\n",
      "  'precision', 'predicted', average, warn_for)\n",
      "C:\\Users\\suydu\\Anaconda3\\lib\\site-packages\\sklearn\\metrics\\classification.py:1437: UndefinedMetricWarning: Precision and F-score are ill-defined and being set to 0.0 in labels with no predicted samples.\n",
      "  'precision', 'predicted', average, warn_for)\n",
      "C:\\Users\\suydu\\Anaconda3\\lib\\site-packages\\sklearn\\metrics\\classification.py:1437: UndefinedMetricWarning: Precision and F-score are ill-defined and being set to 0.0 in labels with no predicted samples.\n",
      "  'precision', 'predicted', average, warn_for)\n"
     ]
    },
    {
     "name": "stdout",
     "output_type": "stream",
     "text": [
      "              precision    recall  f1-score   support\n",
      "\n",
      "       akiec       0.24      0.09      0.13       277\n",
      "         bcc       0.39      0.15      0.22       393\n",
      "         bkl       0.41      0.15      0.22       886\n",
      "          df       0.00      0.00      0.00        88\n",
      "         mel       0.34      0.16      0.22       944\n",
      "          nv       0.71      0.94      0.81      5348\n",
      "        vasc       0.00      0.00      0.00       124\n",
      "\n",
      "    accuracy                           0.67      8060\n",
      "   macro avg       0.30      0.21      0.23      8060\n",
      "weighted avg       0.59      0.67      0.60      8060\n",
      "\n",
      "----------------------------------------------------------------------------------------------------\n",
      "Results for MNB model:\n",
      "----------------------------------------------------------------------------------------------------\n",
      "\n",
      "Overall Accuracy: 0.663151364764268\n",
      "\n",
      "Classification Report:\n",
      "\n"
     ]
    },
    {
     "name": "stderr",
     "output_type": "stream",
     "text": [
      "C:\\Users\\suydu\\Anaconda3\\lib\\site-packages\\sklearn\\metrics\\classification.py:1437: UndefinedMetricWarning: Precision and F-score are ill-defined and being set to 0.0 in labels with no predicted samples.\n",
      "  'precision', 'predicted', average, warn_for)\n",
      "C:\\Users\\suydu\\Anaconda3\\lib\\site-packages\\sklearn\\metrics\\classification.py:1437: UndefinedMetricWarning: Precision and F-score are ill-defined and being set to 0.0 in labels with no predicted samples.\n",
      "  'precision', 'predicted', average, warn_for)\n",
      "C:\\Users\\suydu\\Anaconda3\\lib\\site-packages\\sklearn\\metrics\\classification.py:1437: UndefinedMetricWarning: Precision and F-score are ill-defined and being set to 0.0 in labels with no predicted samples.\n",
      "  'precision', 'predicted', average, warn_for)\n"
     ]
    },
    {
     "name": "stdout",
     "output_type": "stream",
     "text": [
      "              precision    recall  f1-score   support\n",
      "\n",
      "       akiec       0.00      0.00      0.00       277\n",
      "         bcc       0.00      0.00      0.00       393\n",
      "         bkl       0.00      0.00      0.00       886\n",
      "          df       0.00      0.00      0.00        88\n",
      "         mel       0.31      0.00      0.01       944\n",
      "          nv       0.66      1.00      0.80      5348\n",
      "        vasc       0.00      0.00      0.00       124\n",
      "\n",
      "    accuracy                           0.66      8060\n",
      "   macro avg       0.14      0.14      0.12      8060\n",
      "weighted avg       0.48      0.66      0.53      8060\n",
      "\n",
      "----------------------------------------------------------------------------------------------------\n",
      "Results for Gaussian NB model:\n",
      "----------------------------------------------------------------------------------------------------\n",
      "\n",
      "Overall Accuracy: 0.604590570719603\n",
      "\n",
      "Classification Report:\n",
      "\n",
      "              precision    recall  f1-score   support\n",
      "\n",
      "       akiec       0.40      0.12      0.19       277\n",
      "         bcc       0.46      0.24      0.31       393\n",
      "         bkl       0.25      0.07      0.11       886\n",
      "          df       0.08      0.42      0.14        88\n",
      "         mel       0.25      0.40      0.31       944\n",
      "          nv       0.77      0.79      0.78      5348\n",
      "        vasc       0.24      0.19      0.22       124\n",
      "\n",
      "    accuracy                           0.60      8060\n",
      "   macro avg       0.35      0.32      0.29      8060\n",
      "weighted avg       0.61      0.60      0.59      8060\n",
      "\n",
      "----------------------------------------------------------------------------------------------------\n",
      "Results for Logistic Regression model:\n",
      "----------------------------------------------------------------------------------------------------\n",
      "\n",
      "Overall Accuracy: 0.6853598014888338\n",
      "\n",
      "Classification Report:\n",
      "\n",
      "              precision    recall  f1-score   support\n",
      "\n",
      "       akiec       0.12      0.01      0.03       277\n",
      "         bcc       0.46      0.23      0.30       393\n",
      "         bkl       0.44      0.16      0.23       886\n",
      "          df       0.50      0.02      0.04        88\n",
      "         mel       0.48      0.11      0.18       944\n",
      "          nv       0.71      0.97      0.82      5348\n",
      "        vasc       0.50      0.01      0.02       124\n",
      "\n",
      "    accuracy                           0.69      8060\n",
      "   macro avg       0.46      0.22      0.23      8060\n",
      "weighted avg       0.62      0.69      0.61      8060\n",
      "\n",
      "----------------------------------------------------------------------------------------------------\n",
      "Results for SVM model:\n",
      "----------------------------------------------------------------------------------------------------\n",
      "\n",
      "Overall Accuracy: 0.7550868486352358\n",
      "\n",
      "Classification Report:\n",
      "\n",
      "              precision    recall  f1-score   support\n",
      "\n",
      "       akiec       0.49      0.35      0.41       277\n",
      "         bcc       0.54      0.48      0.51       393\n",
      "         bkl       0.57      0.42      0.49       886\n",
      "          df       0.55      0.14      0.22        88\n",
      "         mel       0.67      0.26      0.38       944\n",
      "          nv       0.80      0.96      0.87      5348\n",
      "        vasc       0.84      0.22      0.35       124\n",
      "\n",
      "    accuracy                           0.76      8060\n",
      "   macro avg       0.64      0.40      0.46      8060\n",
      "weighted avg       0.73      0.76      0.72      8060\n",
      "\n"
     ]
    }
   ],
   "source": [
    "# Define function for running all FINAL models\n",
    "\n",
    "\n",
    "def final_models(X_train,X_train_labels,X_test,X_test_labels):\n",
    "    \"\"\"\n",
    "    This function converts the train and test data sets to the appropriate input representation \n",
    "    required by the various ML models and invokes the functions to execute all the models with  \n",
    "    transformed data and tuned hyperparameters\n",
    "    \"\"\"\n",
    "    \n",
    "    #run Knn model\n",
    "    print('Results for knn model:')\n",
    "    print('-'*100)\n",
    "    model_type(KNeighborsClassifier(n_neighbors=1, p=1),X_train,X_train_labels,X_test,X_test_labels)\n",
    "    print('-'*100)\n",
    "    \n",
    "    #run BNB model\n",
    "    # Binarize input data\n",
    "    bin_X_train = binarize_pixels(X_train,)\n",
    "    bin_X_test = binarize_pixels(X_test,)\n",
    "    print('Results for BNB model:')\n",
    "    print('-'*100)\n",
    "    model_type(BernoulliNB(alpha=50),bin_X_train,X_train_labels,bin_X_test,X_test_labels)\n",
    "    print('-'*100)\n",
    "    \n",
    "    #run MNB model\n",
    "    multi_X_train = discretize_pixels(X_train,)\n",
    "    multi_X_test = discretize_pixels(X_test,)\n",
    "    print('Results for MNB model:')\n",
    "    print('-'*100)\n",
    "    model_type(MultinomialNB(alpha=1e-07),multi_X_train,X_train_labels,multi_X_test,X_test_labels)\n",
    "    print('-'*100)\n",
    "    \n",
    "    #run Gaussian NB model\n",
    "    print('Results for Gaussian NB model:')\n",
    "    print('-'*100)\n",
    "    model_type(GaussianNB(),X_train,X_train_labels,X_test,X_test_labels)\n",
    "    print('-'*100)\n",
    "    \n",
    "    #run Logistic regression model\n",
    "    print('Results for Logistic Regression model:')\n",
    "    print('-'*100)\n",
    "    model_type(LogisticRegression(C=10, multi_class='auto', solver='liblinear', penalty='l1'),X_train,X_train_labels,X_test,X_test_labels)\n",
    "    print('-'*100)\n",
    "    \n",
    "    #run SVM model\n",
    "    print('Results for SVM model:')\n",
    "    print('-'*100)\n",
    "    model_type(SVC(kernel='rbf',C=50,gamma=0.0001),X_train,X_train_labels,X_test,X_test_labels)\n",
    "    \n",
    "    \n",
    "    \n",
    "final_models(X_train_proj,train_labels,X_test_proj,test_labels)"
   ]
  }
 ],
 "metadata": {
  "kernelspec": {
   "display_name": "Python 3",
   "language": "python",
   "name": "python3"
  },
  "language_info": {
   "codemirror_mode": {
    "name": "ipython",
    "version": 3
   },
   "file_extension": ".py",
   "mimetype": "text/x-python",
   "name": "python",
   "nbconvert_exporter": "python",
   "pygments_lexer": "ipython3",
   "version": "3.7.1"
  }
 },
 "nbformat": 4,
 "nbformat_minor": 2
}
